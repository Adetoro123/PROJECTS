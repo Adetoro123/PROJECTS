{
  "nbformat": 4,
  "nbformat_minor": 0,
  "metadata": {
    "colab": {
      "name": "Untitled16.ipynb",
      "provenance": [],
      "collapsed_sections": [],
      "authorship_tag": "ABX9TyOVrl/QIwhNdISXWTlEdCp3",
      "include_colab_link": true
    },
    "kernelspec": {
      "name": "python3",
      "display_name": "Python 3"
    },
    "language_info": {
      "name": "python"
    }
  },
  "cells": [
    {
      "cell_type": "markdown",
      "metadata": {
        "id": "view-in-github",
        "colab_type": "text"
      },
      "source": [
        "<a href=\"https://colab.research.google.com/github/Adetoro123/PROJECTS/blob/main/Untitled16.ipynb\" target=\"_parent\"><img src=\"https://colab.research.google.com/assets/colab-badge.svg\" alt=\"Open In Colab\"/></a>"
      ]
    },
    {
      "cell_type": "markdown",
      "metadata": {
        "id": "56rYu34FJ6-P"
      },
      "source": [
        ""
      ]
    },
    {
      "cell_type": "code",
      "metadata": {
        "id": "TnjefhHuIEtU"
      },
      "source": [
        "We have 2 types of functions In programming\n",
        "\n",
        "Functions that perform a task(and print on terminal) and functions that calculate and return a value\n",
        "\n",
        "\n",
        "\n",
        "#Required Parameter\n",
        "\n",
        "def greet(first_name,last_name):\n",
        "  print(f\"Hi {first_name} {last_name}\")\n",
        "  print(\"Welcome On board\") #print on the terminal"
      ],
      "execution_count": null,
      "outputs": []
    },
    {
      "cell_type": "code",
      "metadata": {
        "colab": {
          "base_uri": "https://localhost:8080/"
        },
        "id": "29KFHtB6IIe1",
        "outputId": "d4f31285-7c13-420c-e29b-b9ced92b25fd"
      },
      "source": [
        "greet(\"Adetoro\", \"Adedeji\")"
      ],
      "execution_count": null,
      "outputs": [
        {
          "output_type": "stream",
          "name": "stdout",
          "text": [
            "Hi Adetoro Adedeji\n",
            "Welcome On board\n",
            "None\n"
          ]
        }
      ]
    },
    {
      "cell_type": "code",
      "metadata": {
        "id": "c3Ttmp5eJXi3"
      },
      "source": [
        "# I can rewrite the greet function to return a value\n",
        "#in case you want to send this message in an email or write it in a file \n",
        "\n",
        "def get_greeting(name):\n",
        "  return (f\"Hi  {name}\") #format string\n",
        "\n",
        "  #get_greeting(\"Adetoro\")\n",
        "   # because it returns a value, you can store that value in a separate variable name called \"message\"\n",
        "  var_name = get_greeting(\"Adetoro\")\n",
        "  print(message)"
      ],
      "execution_count": null,
      "outputs": []
    },
    {
      "cell_type": "code",
      "metadata": {
        "colab": {
          "base_uri": "https://localhost:8080/"
        },
        "id": "APUKol87Mp53",
        "outputId": "0e380a8b-1e03-4f26-dd52-5d9d881eb6b2"
      },
      "source": [
        "file = open(\"content.txt\", \"w\")\n",
        "file.write(var_name)"
      ],
      "execution_count": null,
      "outputs": [
        {
          "output_type": "execute_result",
          "data": {
            "text/plain": [
              "11"
            ]
          },
          "metadata": {},
          "execution_count": 93
        }
      ]
    },
    {
      "cell_type": "code",
      "metadata": {
        "colab": {
          "base_uri": "https://localhost:8080/"
        },
        "id": "5JSsdeU0PVOV",
        "outputId": "07eca38a-3633-47cf-8d4f-7d6b94a9c89d"
      },
      "source": [
        "var_name = get_greeting(\"Adetoro\")\n",
        "print(var_name)"
      ],
      "execution_count": null,
      "outputs": [
        {
          "output_type": "stream",
          "name": "stdout",
          "text": [
            "Hi  Adetoro\n"
          ]
        }
      ]
    },
    {
      "cell_type": "code",
      "metadata": {
        "colab": {
          "base_uri": "https://localhost:8080/"
        },
        "id": "EB43RgC5PjIb",
        "outputId": "5a71fbed-7aa2-4587-84bb-6db5c94567b0"
      },
      "source": [
        "# In python, all functiosn by default return the None value. None means absence of a value\n",
        "print(greet(\"Adetoro\", \"Adedeji\"))"
      ],
      "execution_count": null,
      "outputs": [
        {
          "output_type": "stream",
          "name": "stdout",
          "text": [
            "Hi Adetoro Adedeji\n",
            "Welcome On board\n",
            "None\n"
          ]
        }
      ]
    },
    {
      "cell_type": "code",
      "metadata": {
        "colab": {
          "base_uri": "https://localhost:8080/"
        },
        "id": "o8zixjHtUSJu",
        "outputId": "4dddbb68-3522-4a14-9962-f3affaf48cbc"
      },
      "source": [
        "def increment (number,by):\n",
        "  return number + by\n",
        "result= increment (3,1)\n",
        "print(result)  \n",
        "#or\n",
        "print(increment (3,1)) \n",
        "#to make your code more readable, you can use a keyword argument\n",
        "print(increment (3,by=1)) \n",
        " "
      ],
      "execution_count": null,
      "outputs": [
        {
          "output_type": "stream",
          "name": "stdout",
          "text": [
            "4\n",
            "4\n",
            "4\n"
          ]
        }
      ]
    },
    {
      "cell_type": "code",
      "metadata": {
        "colab": {
          "base_uri": "https://localhost:8080/"
        },
        "id": "Tg0aKhqbVUL7",
        "outputId": "6a442534-f4c2-489b-b93e-295bb9d2a7a6"
      },
      "source": [
        "# ensure that all optional parameters are added after the required\n",
        "def increment (number,multiply,by=1):\n",
        "  return (number*multiply ) + by\n",
        "result= increment (3,3)\n",
        "print(result) "
      ],
      "execution_count": null,
      "outputs": [
        {
          "output_type": "stream",
          "name": "stdout",
          "text": [
            "10\n"
          ]
        }
      ]
    },
    {
      "cell_type": "code",
      "metadata": {
        "colab": {
          "base_uri": "https://localhost:8080/"
        },
        "id": "W3YIVDhhbGZY",
        "outputId": "72503f43-68d0-4d83-a2bd-97383b8e11eb"
      },
      "source": [
        "def increment (number,multiply,by=1):\n",
        "  return (number*multiply ) + by\n",
        "result= increment (3,3,2)\n",
        "print(result) "
      ],
      "execution_count": null,
      "outputs": [
        {
          "output_type": "stream",
          "name": "stdout",
          "text": [
            "11\n"
          ]
        }
      ]
    },
    {
      "cell_type": "code",
      "metadata": {
        "colab": {
          "base_uri": "https://localhost:8080/"
        },
        "id": "ijj8sNVybzR2",
        "outputId": "412bcd67-85ad-4a74-c6d5-983ec4f9e83e"
      },
      "source": [
        "# You cannot add more element to a tuple ie it is immutable \n",
        "#but tuple is iterable, which means you can use them in loops\n",
        "# it is similar to a list in that it is a collection of objects\n",
        "\n",
        "##In case I want to pass parameter>1 argein argument\n",
        "def multiply(*numbers):\n",
        "  print(numbers)\n",
        "\n",
        "multiply (5,2,3)"
      ],
      "execution_count": null,
      "outputs": [
        {
          "output_type": "stream",
          "name": "stdout",
          "text": [
            "(5, 2, 3)\n"
          ]
        }
      ]
    },
    {
      "cell_type": "code",
      "metadata": {
        "colab": {
          "base_uri": "https://localhost:8080/"
        },
        "id": "W6QGF9rYfUL2",
        "outputId": "e48aa6e0-e5d1-4fc4-afa0-a417b9c97e22"
      },
      "source": [
        "def multiply(*figures):\n",
        "  for figure in figures:\n",
        "    print (figure)\n",
        "\n",
        "\n",
        "multiply (5,2,3)"
      ],
      "execution_count": null,
      "outputs": [
        {
          "output_type": "stream",
          "name": "stdout",
          "text": [
            "5\n",
            "2\n",
            "3\n"
          ]
        }
      ]
    },
    {
      "cell_type": "code",
      "metadata": {
        "colab": {
          "base_uri": "https://localhost:8080/"
        },
        "id": "_DAHfYL-gZz1",
        "outputId": "9f37a7bf-3e80-4aa4-a25d-6a9103e93e07"
      },
      "source": [
        "def multiply(*figures):\n",
        "  total = 1\n",
        "  for figure in figures:\n",
        "    total = total * figure\n",
        "    #or \n",
        "    #total *= figure (augmented assignment operator)\n",
        "  return total\n",
        "\n",
        "multiply (5,2,3)"
      ],
      "execution_count": null,
      "outputs": [
        {
          "output_type": "execute_result",
          "data": {
            "text/plain": [
              "30"
            ]
          },
          "metadata": {},
          "execution_count": 81
        }
      ]
    },
    {
      "cell_type": "code",
      "metadata": {
        "colab": {
          "base_uri": "https://localhost:8080/"
        },
        "id": "Y6NvNBaviS-p",
        "outputId": "aa5d23ce-d3e7-4ee4-d52b-c4c9367a14ac"
      },
      "source": [
        "** is for multiple keyword arguments and python will automatically package them into a dictionary(an object type/data structure)\n",
        "def save_user(**user):\n",
        "  print(user)\n",
        "\n",
        "save_user (id=1,name=\"John\",age=\"22\")"
      ],
      "execution_count": null,
      "outputs": [
        {
          "output_type": "stream",
          "name": "stdout",
          "text": [
            "{'id': 1, 'name': 'John', 'age': '22'}\n"
          ]
        }
      ]
    },
    {
      "cell_type": "code",
      "metadata": {
        "colab": {
          "base_uri": "https://localhost:8080/"
        },
        "id": "670Bf7g0i7LT",
        "outputId": "2a62cac9-fe35-4b52-8404-2c47f9afd9cb"
      },
      "source": [
        "def save_user(**user):\n",
        "  print(user[\"id\"])\n",
        "\n",
        "save_user (id=1,name=\"John\",age=\"22\")"
      ],
      "execution_count": null,
      "outputs": [
        {
          "output_type": "stream",
          "name": "stdout",
          "text": [
            "1\n"
          ]
        }
      ]
    },
    {
      "cell_type": "code",
      "metadata": {
        "id": "HuEZtw1GpYbq"
      },
      "source": [
        "#global variable stays longer in the interpreter\n",
        "#avoid global variables as much as you can\n",
        "#and if you have to set a global variable, then you avoid changing/resetting it in a function else it\n",
        "# will disrupt every other instances where the global variabkle has been called"
      ],
      "execution_count": null,
      "outputs": []
    },
    {
      "cell_type": "code",
      "metadata": {
        "id": "-mtXhTwdrqhn"
      },
      "source": [
        "# if input is divisble by 3, it will return fizz\n",
        "# if input is divisble by 5, it will return buzz\n",
        "# if input is divisble by 3 and 5, it will return fizzBuzz\n",
        "# if input is neither divisible by 3 / 5, then it will return the number"
      ],
      "execution_count": null,
      "outputs": []
    },
    {
      "cell_type": "code",
      "metadata": {
        "colab": {
          "base_uri": "https://localhost:8080/"
        },
        "id": "62ShdoDhs0jl",
        "outputId": "d8fc7b7b-6029-4f2a-c2f9-bad4fa22a6bd"
      },
      "source": [
        "def fizz_buzz(input):\n",
        "  if input%3==0:\n",
        "    result = \"Fizz\"\n",
        "  else:\n",
        "    result = \"Buzz\"\n",
        "  return result\n",
        "\n",
        "print(fizz_buzz(5))\n",
        "\n"
      ],
      "execution_count": null,
      "outputs": [
        {
          "output_type": "stream",
          "name": "stdout",
          "text": [
            "Buzz\n"
          ]
        }
      ]
    },
    {
      "cell_type": "code",
      "metadata": {
        "colab": {
          "base_uri": "https://localhost:8080/"
        },
        "id": "plCWBCk-y2w0",
        "outputId": "c9dac807-0ff5-435c-a0f9-fb0c2d13ae26"
      },
      "source": [
        "#to optimize your code, do this\n",
        "def fizz_buzz(input):\n",
        "  if input%3==0:\n",
        "    return \"Fizz\"\n",
        "  else:\n",
        "    return  \"Buzz\"\n",
        "\n",
        "print(fizz_buzz(5))"
      ],
      "execution_count": null,
      "outputs": [
        {
          "output_type": "stream",
          "name": "stdout",
          "text": [
            "Buzz\n"
          ]
        }
      ]
    },
    {
      "cell_type": "code",
      "metadata": {
        "id": "ziHLKpo-1daL"
      },
      "source": [
        "#to optimize your code, do this\n",
        "def fizz_buzz(input):\n",
        "  if input%3==0:\n",
        "    return \"Fizz\"\n",
        "  else:\n",
        "    return  \"Buzz\"\n",
        "\n",
        "print(fizz_buzz(5))"
      ],
      "execution_count": null,
      "outputs": []
    },
    {
      "cell_type": "code",
      "metadata": {
        "colab": {
          "base_uri": "https://localhost:8080/"
        },
        "id": "eRQx9HF81ydo",
        "outputId": "1f4dac93-443a-43b1-8a52-770cb8fd6467"
      },
      "source": [
        "def fizz_buzz(input):\n",
        "  if input%3==0 and input%5==0:\n",
        "    return \"fizzbuzz\" \n",
        "  if input%3==0:\n",
        "    return \"fizz\"\n",
        "  if input%5==0:\n",
        "    return\"buzz\"\n",
        " \n",
        "  return input\n",
        "\n",
        "print(fizz_buzz(15))"
      ],
      "execution_count": 23,
      "outputs": [
        {
          "output_type": "stream",
          "name": "stdout",
          "text": [
            "fizzbuzz\n"
          ]
        }
      ]
    },
    {
      "cell_type": "code",
      "metadata": {
        "colab": {
          "base_uri": "https://localhost:8080/"
        },
        "id": "XRDM8uLl8bbN",
        "outputId": "bcfd5d52-a839-4f78-f9a9-5101acdba0e3"
      },
      "source": [
        "i=7\n",
        "\n",
        "while i<=10:\n",
        "  print(i)\n",
        "  i=i+1\n",
        "\n",
        "\n"
      ],
      "execution_count": null,
      "outputs": [
        {
          "output_type": "stream",
          "name": "stdout",
          "text": [
            "7\n",
            "8\n",
            "9\n",
            "10\n"
          ]
        }
      ]
    },
    {
      "cell_type": "code",
      "metadata": {
        "colab": {
          "base_uri": "https://localhost:8080/"
        },
        "id": "esUSIhUp-KCh",
        "outputId": "bacd0305-7d51-496b-b081-bba8c240bdb7"
      },
      "source": [
        "i=7\n",
        "\n",
        "while i<=10:\n",
        "  i=i+1\n",
        "  print(i)\n",
        "\n"
      ],
      "execution_count": null,
      "outputs": [
        {
          "output_type": "stream",
          "name": "stdout",
          "text": [
            "8\n",
            "9\n",
            "10\n",
            "11\n"
          ]
        }
      ]
    },
    {
      "cell_type": "code",
      "metadata": {
        "colab": {
          "base_uri": "https://localhost:8080/"
        },
        "id": "2F9EHb2u-jNl",
        "outputId": "c8526fc3-aa30-44c6-8b22-2b13a65a3a06"
      },
      "source": [
        "i=7\n",
        "\n",
        "while i<=10:\n",
        "  i=i+1\n",
        "print(i)\n"
      ],
      "execution_count": null,
      "outputs": [
        {
          "output_type": "stream",
          "name": "stdout",
          "text": [
            "11\n"
          ]
        }
      ]
    },
    {
      "cell_type": "code",
      "metadata": {
        "colab": {
          "base_uri": "https://localhost:8080/"
        },
        "id": "L2w9wY51Du9K",
        "outputId": "10bb2e3c-e8a6-4451-e156-f47632c61262"
      },
      "source": [
        "a, b, c = 5, 3.2, \"Hello\"\n",
        "\n",
        "print (a)\n",
        "print (b)\n",
        "print (c)"
      ],
      "execution_count": 1,
      "outputs": [
        {
          "output_type": "stream",
          "name": "stdout",
          "text": [
            "5\n",
            "3.2\n",
            "Hello\n"
          ]
        }
      ]
    },
    {
      "cell_type": "code",
      "metadata": {
        "colab": {
          "base_uri": "https://localhost:8080/"
        },
        "id": "vRQxrcaVRNnh",
        "outputId": "791f8e0a-7086-4fc8-f0da-408c6b9e7602"
      },
      "source": [
        "a =5; b = 3.2 ;  c=\"Hello\"\n",
        "\n",
        "print (a)\n",
        "print (b)\n",
        "print (c)"
      ],
      "execution_count": 3,
      "outputs": [
        {
          "output_type": "stream",
          "name": "stdout",
          "text": [
            "5\n",
            "3.2\n",
            "Hello\n"
          ]
        }
      ]
    },
    {
      "cell_type": "code",
      "metadata": {
        "colab": {
          "base_uri": "https://localhost:8080/"
        },
        "id": "2u8VZ21TRqKI",
        "outputId": "b7f54294-c1ac-4942-d32c-1cecfeba2421"
      },
      "source": [
        "x = y = z = \"same\"\n",
        "\n",
        "print (x)\n",
        "print (y)\n",
        "print (z)"
      ],
      "execution_count": 4,
      "outputs": [
        {
          "output_type": "stream",
          "name": "stdout",
          "text": [
            "same\n",
            "same\n",
            "same\n"
          ]
        }
      ]
    },
    {
      "cell_type": "code",
      "metadata": {
        "id": "rN99Q27wS3Eh"
      },
      "source": [
        "Write a function that calculates the floor division of the following mathematical expression ((x+12)^2-y^3)) by 9"
      ],
      "execution_count": null,
      "outputs": []
    },
    {
      "cell_type": "code",
      "metadata": {
        "id": "A5iWuoy6S6LA"
      },
      "source": [
        "def floor_div(x,y,z=9):\n",
        "  return (((x+12)**2 -(y)**3 )) // z\n"
      ],
      "execution_count": 27,
      "outputs": []
    },
    {
      "cell_type": "code",
      "metadata": {
        "colab": {
          "base_uri": "https://localhost:8080/"
        },
        "id": "ogReYDvfWQsh",
        "outputId": "a3c3c1c8-d81c-4f2d-8e3d-1e7371d7fe53"
      },
      "source": [
        "result=floor_div(2,4)\n",
        "print(result)"
      ],
      "execution_count": 28,
      "outputs": [
        {
          "output_type": "stream",
          "name": "stdout",
          "text": [
            "14\n"
          ]
        }
      ]
    },
    {
      "cell_type": "code",
      "metadata": {
        "colab": {
          "base_uri": "https://localhost:8080/"
        },
        "id": "7tO6aFF1X9ta",
        "outputId": "e7dc14e3-e968-42bb-8011-042650b5562b"
      },
      "source": [
        "2**2"
      ],
      "execution_count": 26,
      "outputs": [
        {
          "output_type": "execute_result",
          "data": {
            "text/plain": [
              "4"
            ]
          },
          "metadata": {},
          "execution_count": 26
        }
      ]
    },
    {
      "cell_type": "code",
      "metadata": {
        "colab": {
          "base_uri": "https://localhost:8080/"
        },
        "id": "eEUbt3FkfaRo",
        "outputId": "96ffe5dc-8cb8-49d9-9553-7ceb4a2bfdf0"
      },
      "source": [
        "x=8\n",
        "  \n",
        "not(x < 5 and x < 10)"
      ],
      "execution_count": 31,
      "outputs": [
        {
          "output_type": "execute_result",
          "data": {
            "text/plain": [
              "True"
            ]
          },
          "metadata": {},
          "execution_count": 31
        }
      ]
    },
    {
      "cell_type": "code",
      "metadata": {
        "colab": {
          "base_uri": "https://localhost:8080/"
        },
        "id": "93MAwWidpMUA",
        "outputId": "7fd62907-6e5a-4044-8295-3beb95083205"
      },
      "source": [
        "str1 = \"Welcome to \"\n",
        "str2 =\"coding world!\"\n",
        "print(\"str1 + str2 = \", str1 + str2)     #str1 + str2 =  Welcome to coding world!"
      ],
      "execution_count": 32,
      "outputs": [
        {
          "output_type": "stream",
          "name": "stdout",
          "text": [
            "str1 + str2 =  Welcome to coding world!\n"
          ]
        }
      ]
    },
    {
      "cell_type": "markdown",
      "metadata": {
        "id": "pXbuVX01S4Uh"
      },
      "source": [
        ""
      ]
    },
    {
      "cell_type": "code",
      "metadata": {
        "colab": {
          "base_uri": "https://localhost:8080/"
        },
        "id": "V4c93sovpRpw",
        "outputId": "590e7b25-e6bd-45b7-a79b-7828be41cdd4"
      },
      "source": [
        "str1 = \"Welcome to \"\n",
        "str2 =\"coding world!\"\n",
        "print(str1 + str2)     #str1 + str2 =  Welcome to coding world!"
      ],
      "execution_count": 34,
      "outputs": [
        {
          "output_type": "stream",
          "name": "stdout",
          "text": [
            "Welcome to coding world!\n"
          ]
        }
      ]
    },
    {
      "cell_type": "markdown",
      "metadata": {
        "id": "CuIa3yAjpueo"
      },
      "source": [
        "Write a Python program which gets two strings and return a string made of the three first characters of each string."
      ]
    },
    {
      "cell_type": "code",
      "metadata": {
        "colab": {
          "base_uri": "https://localhost:8080/"
        },
        "id": "y4kXq9-8pt3x",
        "outputId": "74ff640c-c14f-40a7-dee6-5a2242df9d6f"
      },
      "source": [
        "def get_string(a,b):\n",
        "  a=str(a);b=str(b)\n",
        "  return a[0:3]+b[0:3]\n",
        "\n",
        "result=get_string(\"Coding\",\"World\")\n",
        "print(result)"
      ],
      "execution_count": 50,
      "outputs": [
        {
          "output_type": "stream",
          "name": "stdout",
          "text": [
            "CodWor\n"
          ]
        }
      ]
    },
    {
      "cell_type": "code",
      "metadata": {
        "colab": {
          "base_uri": "https://localhost:8080/"
        },
        "id": "VjdYKlVPqx7h",
        "outputId": "bada7cb9-47b7-4b50-8f78-c9697b774fbd"
      },
      "source": [
        "q=\"coding\"\n",
        "print(q[0:3])"
      ],
      "execution_count": 47,
      "outputs": [
        {
          "output_type": "stream",
          "name": "stdout",
          "text": [
            "cod\n"
          ]
        }
      ]
    },
    {
      "cell_type": "code",
      "metadata": {
        "colab": {
          "base_uri": "https://localhost:8080/"
        },
        "id": "tczQ31yesJnp",
        "outputId": "4b3a1bb2-4419-4159-a9b5-df5890e13a2d"
      },
      "source": [
        "my_string = \"Welcome to python\"\n",
        "print(\"my_string[0] = \", my_string[0])  #first character                my_string[0] =  W\n",
        "print(\"my_string[-1] = \", my_string[-1]) #last character               my_string[-1] =  n"
      ],
      "execution_count": 44,
      "outputs": [
        {
          "output_type": "stream",
          "name": "stdout",
          "text": [
            "my_string[0] =  W\n",
            "my_string[-1] =  n\n"
          ]
        }
      ]
    },
    {
      "cell_type": "code",
      "metadata": {
        "colab": {
          "base_uri": "https://localhost:8080/"
        },
        "id": "CKfrx3LssPZg",
        "outputId": "5365cb97-4852-4320-8248-7ceb5485e7e6"
      },
      "source": [
        "print(my_string[0])"
      ],
      "execution_count": 45,
      "outputs": [
        {
          "output_type": "stream",
          "name": "stdout",
          "text": [
            "W\n"
          ]
        }
      ]
    },
    {
      "cell_type": "code",
      "metadata": {
        "colab": {
          "base_uri": "https://localhost:8080/"
        },
        "id": "dy_oA1iE6lK_",
        "outputId": "39f56d10-ac81-4bb7-a762-cc15ed18b7a1"
      },
      "source": [
        "x = (2>5) == (3==6)\n",
        "if x :\n",
        "    print('x is True')\n",
        "else:\n",
        "    print('x is not True')"
      ],
      "execution_count": 1,
      "outputs": [
        {
          "output_type": "stream",
          "name": "stdout",
          "text": [
            "x is True\n"
          ]
        }
      ]
    },
    {
      "cell_type": "code",
      "metadata": {
        "colab": {
          "base_uri": "https://localhost:8080/"
        },
        "id": "LeBu6KuM71AP",
        "outputId": "42cd1c78-86b7-412f-858f-15fd515c095f"
      },
      "source": [
        "for i in range(5):\n",
        "    print(i)"
      ],
      "execution_count": 2,
      "outputs": [
        {
          "output_type": "stream",
          "name": "stdout",
          "text": [
            "0\n",
            "1\n",
            "2\n",
            "3\n",
            "4\n"
          ]
        }
      ]
    },
    {
      "cell_type": "code",
      "metadata": {
        "colab": {
          "base_uri": "https://localhost:8080/"
        },
        "id": "kVXM0Zif8JJA",
        "outputId": "57dd722b-bf93-412d-f664-b2afb3443a2f"
      },
      "source": [
        "for i in range(1,20,2):\n",
        "  print(i)"
      ],
      "execution_count": 4,
      "outputs": [
        {
          "output_type": "stream",
          "name": "stdout",
          "text": [
            "1\n",
            "3\n",
            "5\n",
            "7\n",
            "9\n",
            "11\n",
            "13\n",
            "15\n",
            "17\n",
            "19\n"
          ]
        }
      ]
    },
    {
      "cell_type": "code",
      "metadata": {
        "colab": {
          "base_uri": "https://localhost:8080/"
        },
        "id": "u-OgjXbj8UpA",
        "outputId": "863f3442-cf6d-458e-93e8-4ff76b434db4"
      },
      "source": [
        "for i in range(1,20,2):\n",
        "  i=i+1\n",
        "print(i)"
      ],
      "execution_count": 6,
      "outputs": [
        {
          "output_type": "stream",
          "name": "stdout",
          "text": [
            "20\n"
          ]
        }
      ]
    },
    {
      "cell_type": "code",
      "metadata": {
        "id": "BJLCR5j28tPn"
      },
      "source": [
        "sum = 0 \n",
        "i = 1 # initialize sum and counter\n",
        "\n",
        "while i <= n:\n",
        "    sum = sum + i\n",
        "    i = i+1    # update counter\n",
        "\n",
        "print(\"The sum is\", sum) # print the sum"
      ],
      "execution_count": null,
      "outputs": []
    },
    {
      "cell_type": "code",
      "metadata": {
        "colab": {
          "base_uri": "https://localhost:8080/"
        },
        "id": "5aPsDrG09ePf",
        "outputId": "6dbec6e9-5e0f-45d9-8c3c-aa5deeecc108"
      },
      "source": [
        "sum = 0 \n",
        "i = 1 # initialize sum and counter\n",
        "n=2\n",
        "while i <= n:\n",
        "    sum = sum + i\n",
        "    i = i+1    # update counter\n",
        "\n",
        "print(\"The sum is\", sum) # print the sum"
      ],
      "execution_count": 8,
      "outputs": [
        {
          "output_type": "stream",
          "name": "stdout",
          "text": [
            "The sum is 3\n"
          ]
        }
      ]
    },
    {
      "cell_type": "code",
      "metadata": {
        "colab": {
          "base_uri": "https://localhost:8080/"
        },
        "id": "86Bw4RmGuUct",
        "outputId": "f0186d58-36a0-4e9e-c9da-9e9a5562dee5"
      },
      "source": [
        "for i in range(5):\n",
        "  print (i)"
      ],
      "execution_count": 3,
      "outputs": [
        {
          "output_type": "stream",
          "name": "stdout",
          "text": [
            "0\n",
            "1\n",
            "2\n",
            "3\n",
            "4\n"
          ]
        }
      ]
    },
    {
      "cell_type": "code",
      "metadata": {
        "id": "AbMPL35IujEJ"
      },
      "source": [
        "#Write a Python program which accepts the user's first and last name and print them in reverse order with a space between them.\n",
        "\n",
        "def users_name(first_name,last_name):\n",
        "  first_name=str(first_name)\n",
        "  last_name=str(last_name)\n",
        "  return first_name + last_name\n",
        "result=users_name(\"adetoro\",\"adedeji\")"
      ],
      "execution_count": 18,
      "outputs": []
    },
    {
      "cell_type": "code",
      "metadata": {
        "colab": {
          "base_uri": "https://localhost:8080/"
        },
        "id": "Thizh9Es3-Go",
        "outputId": "d5ebf38e-c958-4e85-fbff-cca7b6a618ab"
      },
      "source": [
        "print(result)"
      ],
      "execution_count": 19,
      "outputs": [
        {
          "output_type": "stream",
          "name": "stdout",
          "text": [
            "adetoroadedeji\n"
          ]
        }
      ]
    },
    {
      "cell_type": "code",
      "metadata": {
        "colab": {
          "base_uri": "https://localhost:8080/"
        },
        "id": "KKSRdAnG44pd",
        "outputId": "a65852ba-7a91-40fe-878a-66622b6e3185"
      },
      "source": [
        "def users_name(first_name,last_name):\n",
        "  first_name=str(first_name)\n",
        "  last_name=str(last_name)\n",
        "  return f\"{last_name} {first_name}\"\n",
        "print(users_name(\"adetoro\",\"adedeji\"))"
      ],
      "execution_count": 21,
      "outputs": [
        {
          "output_type": "stream",
          "name": "stdout",
          "text": [
            "adedeji adetoro\n"
          ]
        }
      ]
    },
    {
      "cell_type": "code",
      "metadata": {
        "id": "98fTFpiQ50-v"
      },
      "source": [
        "##Write a Python program that accepts an integer (n) and computes the value of n+nn+nnn\n",
        "##Sample value of n is 5 \n",
        "#Expected Result : 615 (5+55+555)"
      ],
      "execution_count": null,
      "outputs": []
    },
    {
      "cell_type": "markdown",
      "metadata": {
        "id": "-rzK94AD56-D"
      },
      "source": [
        ""
      ]
    },
    {
      "cell_type": "code",
      "metadata": {
        "colab": {
          "base_uri": "https://localhost:8080/"
        },
        "id": "oqh7w9Cy58Os",
        "outputId": "7e0c7496-720c-4e66-f782-68cb5cf8e2cd"
      },
      "source": [
        "def number_program(n):\n",
        "  n=str(n)\n",
        "  nn=2*n\n",
        "  nnn=3*n\n",
        "  return int(n)+int(nn)+int(nnn)\n",
        "print(number_program(5))"
      ],
      "execution_count": 36,
      "outputs": [
        {
          "output_type": "stream",
          "name": "stdout",
          "text": [
            "615\n"
          ]
        }
      ]
    },
    {
      "cell_type": "code",
      "metadata": {
        "colab": {
          "base_uri": "https://localhost:8080/"
        },
        "id": "t0s_Q7Mm9aF0",
        "outputId": "99e3e7a1-8f98-43fc-a1a4-e6243bd93e16"
      },
      "source": [
        "def number_program(n):\n",
        "  n=str(n)\n",
        "  nnn=3*n\n",
        "  return nnn\n",
        "print(number_program(5))"
      ],
      "execution_count": 33,
      "outputs": [
        {
          "output_type": "stream",
          "name": "stdout",
          "text": [
            "555\n"
          ]
        }
      ]
    },
    {
      "cell_type": "code",
      "metadata": {
        "colab": {
          "base_uri": "https://localhost:8080/"
        },
        "id": "FyYXFcfGAKWD",
        "outputId": "9bb6a1e3-d96e-44bd-aebd-3e620dedd3cc"
      },
      "source": [
        "#Write a Python program to find whether a given number (accept from the user) is even or odd, print out an appropriate message to the user.\n",
        "\n",
        "def is_even_odd(input):\n",
        "  input=int(input)\n",
        "  if input%2==0:\n",
        "    return f\"The inputed number is even\"\n",
        "  return f\"The inputed number is odd\"\n",
        "\n",
        "print(is_even_odd(11))"
      ],
      "execution_count": 39,
      "outputs": [
        {
          "output_type": "stream",
          "name": "stdout",
          "text": [
            "The inputed number is odd\n"
          ]
        }
      ]
    },
    {
      "cell_type": "code",
      "metadata": {
        "id": "nBy1TqxxBRuR"
      },
      "source": [
        "#Write a program which will find all such numbers which are divisible by 7 but are not a multiple of 5, between 2000 and 3200 (both included). \n",
        "#The numbers obtained should be printed in a sequence on a single line.\n",
        "\n",
        "#Hints: Consider use range(#begin, #end) method \n",
        "                          \n",
        "def divisible_by_7 (j,k):\n",
        "  j==2000\n",
        "  k==3201\n",
        "  \n",
        "  for i in range(j,k+1):\n",
        "    if i%7==0 and i%5!=0:\n",
        "\n",
        "  \n",
        "      print(divisible_by_7(i))                   "
      ],
      "execution_count": 30,
      "outputs": []
    },
    {
      "cell_type": "code",
      "metadata": {
        "id": "y2p-iAqSXOe1"
      },
      "source": [
        "#Write a program which will find all such numbers which are divisible by 7 but are not a multiple of 5, between 2000 and 3200 (both included). \n",
        "#The numbers obtained should be printed in a sequence on a single line.\n",
        "\n",
        "#Hints: Consider use range(#begin, #end) method \n",
        "\n",
        "for x in range(2000 , 3201): #This will start the loop from 2000 till 3200 because the range function goes till x-1 (In this case 3201 - 1)\n",
        "\n",
        "  if x % 7 == 0 and x % 5 != 0 : #This satisfies the given requirements\n",
        "\n",
        "    print(x)"
      ],
      "execution_count": null,
      "outputs": []
    },
    {
      "cell_type": "code",
      "metadata": {
        "colab": {
          "base_uri": "https://localhost:8080/"
        },
        "id": "mg6l6xEqY-tr",
        "outputId": "2fdca1ae-73b1-466f-8ec5-42c234794e37"
      },
      "source": [
        "#Write a program that can compute the factorial of a given number. The results should be printed in a sequence on a single line. \n",
        "#Suppose the following input is supplied to the program: 8 Then, the output should be: 40320 \n",
        "\n",
        "#Hint: The factorial function (symbol: !) multiplies all whole numbers from our chosen number down to 1. Examples: \n",
        "\n",
        "#4! = 4 × 3 × 2 × 1\n",
        "\n",
        "#8! = 8 × 7 × 6 × 5 × 4 × 3 × 2 × 1\n",
        "\n",
        "#1! = 1\n",
        "\n",
        "#0! = 1 (by convention\n",
        "\n",
        "def factorial(n):\n",
        "  j = 1\n",
        "  for i in range(1, n+1):\n",
        "      j = j * i\n",
        "  return j\n",
        "\n",
        "number = int(input(\"Type a number: \"))\n",
        "print(factorial(number))\n",
        "\n",
        "\n"
      ],
      "execution_count": 5,
      "outputs": [
        {
          "output_type": "stream",
          "name": "stdout",
          "text": [
            "Type a number: 8\n",
            "40320\n"
          ]
        }
      ]
    },
    {
      "cell_type": "code",
      "metadata": {
        "colab": {
          "base_uri": "https://localhost:8080/"
        },
        "id": "7JvyB0HnJfaM",
        "outputId": "a7f5d8dd-d892-422d-e935-7c9710c54c35"
      },
      "source": [
        "#Write a program to remove the characters which have odd index values of a given string.\n",
        "\n",
        "#for example: string =\"hello team\"\n",
        "\n",
        "#the result should be: hlota\n",
        "\n",
        "def odd_index (n):\n",
        "  result=\"\"\n",
        "  for i in range(len(n)):\n",
        "    if i % 2 ==0 :\n",
        "       result = result  + n[i]  \n",
        "  return result\n",
        "print(odd_index(\"adetoro\"))"
      ],
      "execution_count": 40,
      "outputs": [
        {
          "output_type": "stream",
          "name": "stdout",
          "text": [
            "aeoo\n"
          ]
        }
      ]
    },
    {
      "cell_type": "markdown",
      "metadata": {
        "id": "ANHChKBJSms1"
      },
      "source": [
        "In this challenge, you must discount a price according to its value.\n",
        "\n",
        "- If the price is 500 or above, there will be a 50% discount.\n",
        "\n",
        "- If the price is between 200 and 500 (200 inclusive), there will be a 30% discount.\n",
        "\n",
        "- If the price is less than 200, there will be a 10% discount."
      ]
    },
    {
      "cell_type": "code",
      "metadata": {
        "colab": {
          "base_uri": "https://localhost:8080/"
        },
        "id": "M5qxD9psSgDX",
        "outputId": "5d020b3a-71bf-408c-c873-4b393c146b38"
      },
      "source": [
        "def discount(n):\n",
        "  n=int(n)\n",
        "  if n >0:\n",
        "\n",
        "    if n<200:\n",
        "      result = n-0.1*n\n",
        "    elif n >=200 and n < 500:\n",
        "      result= n-0.3*n\n",
        "    if n >= 500:\n",
        "      result = n-0.5*n\n",
        "    return result\n",
        "  return \"Invalid amount\"\n",
        "\n",
        "\n",
        "number = int(input(\"Price of Commodity:\"))\n",
        "#int(input(\"Type a number: \"))\n",
        "print(discount(number))"
      ],
      "execution_count": 51,
      "outputs": [
        {
          "output_type": "stream",
          "name": "stdout",
          "text": [
            "Price of Commodity:0\n",
            "Invalid amount\n"
          ]
        }
      ]
    },
    {
      "cell_type": "code",
      "metadata": {
        "colab": {
          "base_uri": "https://localhost:8080/"
        },
        "id": "_CIRTCzase5y",
        "outputId": "db45db37-05f6-4aef-a9ce-b6409e05dc66"
      },
      "source": [
        "my_dictionary =\t{\"knowledge\": \"Data Science\",\"tool\": \"python\",\"year\": 2020}\n",
        "for key in my_dictionary.keys():     # Loop Through dictionary keys\n",
        "     print(key)\n"
      ],
      "execution_count": 63,
      "outputs": [
        {
          "output_type": "stream",
          "name": "stdout",
          "text": [
            "knowledge\n",
            "tool\n",
            "year\n"
          ]
        }
      ]
    },
    {
      "cell_type": "code",
      "metadata": {
        "colab": {
          "base_uri": "https://localhost:8080/"
        },
        "id": "XZrE0Ze21j4q",
        "outputId": "b519cc35-204f-42e5-e424-a7b71ef21348"
      },
      "source": [
        "my_dictionary =\t{\"knowledge\": \"Data Science\",\"tool\": \"python\",\"year\": 2020}\n",
        "for value in my_dictionary.values():    #  Loop Through dictionary values\n",
        "     print(value)"
      ],
      "execution_count": 61,
      "outputs": [
        {
          "output_type": "stream",
          "name": "stdout",
          "text": [
            "Data Science\n",
            "python\n",
            "2020\n"
          ]
        }
      ]
    },
    {
      "cell_type": "code",
      "metadata": {
        "colab": {
          "base_uri": "https://localhost:8080/"
        },
        "id": "-3zVsv_S1zn5",
        "outputId": "bf9ca9be-c53a-403c-e57a-3a99e7efdf5d"
      },
      "source": [
        "for item in my_dictionary.items():     # Loop Through dictionary items\n",
        "      print(item)"
      ],
      "execution_count": 62,
      "outputs": [
        {
          "output_type": "stream",
          "name": "stdout",
          "text": [
            "('knowledge', 'Data Science')\n",
            "('tool', 'python')\n",
            "('year', 2020)\n"
          ]
        }
      ]
    },
    {
      "cell_type": "code",
      "metadata": {
        "colab": {
          "base_uri": "https://localhost:8080/"
        },
        "id": "HjE6VR44serZ",
        "outputId": "137fb86f-261b-4cff-bf3b-5e2dd192db7e"
      },
      "source": [
        "print(len(my_dictionary))     #3"
      ],
      "execution_count": 64,
      "outputs": [
        {
          "output_type": "stream",
          "name": "stdout",
          "text": [
            "3\n"
          ]
        }
      ]
    },
    {
      "cell_type": "markdown",
      "metadata": {
        "id": "OHm0qQUwAHKS"
      },
      "source": [
        "Dictionaries can also be created with the built-in function dict(**kwarg). This function takes an arbitrary number of keywords arguments (arguments preceded by an identifier kwarg=value) as input\n",
        "create a dictionary using another dictionary in combination with keyword arguments (dict(mapping, **kwarg))"
      ]
    },
    {
      "cell_type": "code",
      "metadata": {
        "id": "BSDFmq4CAVrQ"
      },
      "source": [
        "students_ages = dict({'Amanda': 27, 'Teresa': 38}, Paula=17, Mario=40)\n",
        "\n",
        "print(students_ages)"
      ],
      "execution_count": null,
      "outputs": []
    },
    {
      "cell_type": "code",
      "metadata": {
        "id": "Fkv8dBh6_oZZ"
      },
      "source": [
        "#create a dictionary with dict() function using an iterable (list of tuples)\n",
        "students_ages = dict([('Amanda', 27), ('Teresa', 38), ('Paula', 17), ('Mario', 40)])\n",
        "\n",
        "print(students_ages)"
      ],
      "execution_count": null,
      "outputs": []
    },
    {
      "cell_type": "markdown",
      "metadata": {
        "id": "3CimUUS0BkcN"
      },
      "source": [
        "we can create a dictionary using two lists. First, we have to build an iterator of tuples using zip(*iterables) function. Then, we employ the dict([iterable, **kwarg]) function to construct the dictionary"
      ]
    },
    {
      "cell_type": "code",
      "metadata": {
        "colab": {
          "base_uri": "https://localhost:8080/"
        },
        "id": "QQMYFCIPBhdy",
        "outputId": "4295b819-3d6e-4c29-8f1c-e8b97c9c011b"
      },
      "source": [
        "# create a dictionary using two list\n",
        "students = ['Amanda', 'Teresa', 'Paula', 'Mario']\n",
        "ages = [27, 38, 17, 40]\n",
        "\n",
        "# zip method --> iterator of tuples --> dict method --> dictionary\n",
        "students_ages = dict(zip(students, ages))\n",
        "\n",
        "print(students_ages)"
      ],
      "execution_count": 65,
      "outputs": [
        {
          "output_type": "stream",
          "name": "stdout",
          "text": [
            "{'Amanda': 27, 'Teresa': 38, 'Paula': 17, 'Mario': 40}\n"
          ]
        }
      ]
    },
    {
      "cell_type": "code",
      "metadata": {
        "colab": {
          "base_uri": "https://localhost:8080/"
        },
        "id": "dE1qCge2DNYw",
        "outputId": "1e337ccb-414f-498a-9c84-6469dee3b490"
      },
      "source": [
        "students_ages = dict([('Amanda', 27), ('Teresa', 38), ('Paula', 17), ('Mario', 40)])\n",
        "\n",
        "print(students_ages.get('Amanda','not found'))"
      ],
      "execution_count": 70,
      "outputs": [
        {
          "output_type": "stream",
          "name": "stdout",
          "text": [
            "27\n"
          ]
        }
      ]
    },
    {
      "cell_type": "code",
      "metadata": {
        "colab": {
          "base_uri": "https://localhost:8080/"
        },
        "id": "15WKBvQDD8lh",
        "outputId": "aa40eec0-1c47-49c1-9e4f-81ab3b1cb47f"
      },
      "source": [
        "students_ages = dict([('Amanda', 27), ('Teresa', 38), ('Paula', 17), ('Mario', 40)])\n",
        "\n",
        "print(students_ages.get('dayo','not found'))"
      ],
      "execution_count": 71,
      "outputs": [
        {
          "output_type": "stream",
          "name": "stdout",
          "text": [
            "not found\n"
          ]
        }
      ]
    },
    {
      "cell_type": "code",
      "metadata": {
        "colab": {
          "base_uri": "https://localhost:8080/"
        },
        "id": "snO4Rjw9D-XI",
        "outputId": "36904121-5978-4acc-e578-7e3f0ccb9e92"
      },
      "source": [
        "students_ages = dict([('Amanda', 27), ('Teresa', 38), ('Paula', 17), ('Mario', 40)])\n",
        "\n",
        "print(students_ages.get('Amanda'))\n",
        "\n",
        "# notice the square bracket call diference\n",
        "print(students_ages['Amanda'])"
      ],
      "execution_count": 74,
      "outputs": [
        {
          "output_type": "stream",
          "name": "stdout",
          "text": [
            "27\n",
            "27\n"
          ]
        }
      ]
    },
    {
      "cell_type": "code",
      "metadata": {
        "id": "e8jgs6RFEB3f"
      },
      "source": [
        "students_ages = dict([('Amanda', 27), ('Teresa', 38), ('Paula', 17), ('Mario', 40)])\n",
        "\n",
        "print(students_ages.get('Amanda','not found'))  #27\n",
        "\n",
        "the below will give a key error\n",
        "print(students_ages['dayo'])"
      ],
      "execution_count": null,
      "outputs": []
    },
    {
      "cell_type": "code",
      "metadata": {
        "id": "6-R0AmFhFAWy"
      },
      "source": [
        "# add shelf and sofa to the products dictionary using another dictionary object\n",
        "products.update({'shelf': 70, 'sofa': 300})\n",
        "\n",
        "print(products)\n",
        "#{'table': 120, 'chair': 40, 'lamp': 14, 'bed': 250, 'mattress': 100, 'pillow': 10, 'shelf': 70, 'sofa': 300}\n",
        "\n",
        "# add three new items to the grades dictionary using keyword arguments\n",
        "grades.update(Violeta=5.5, Marco=6.5, Paola=8)\n",
        "\n",
        "print(grades)\n",
        "# {'Alba': 9.5, 'Eduardo': 10, 'Normando': 3.5, 'Helena': 6.5, 'Claudia': 7.5, 'Violeta': 5.5, 'Marco': 6.5, 'Paola': 8}\n",
        "\n",
        "# add two cities to the population dictionary using a list of tuples\n",
        "population.update([('Stuttgart', 632743), ('Dusseldorf', 617280)])\n",
        "\n",
        "print(population)\n",
        "# {'Berlin': 3748148, 'Hamburg': 1822445, 'Munich': 1471508, 'Cologne': 1085664, 'Frankfurt': 753056, 'Stuttgart': 632743, 'Dusseldorf': 617280}       "
      ],
      "execution_count": null,
      "outputs": []
    },
    {
      "cell_type": "code",
      "metadata": {
        "id": "GQq1WMuwHRMh"
      },
      "source": [
        "# increase the price of a sofa 100 units\n",
        "print(products)\n",
        "# {'table': 120, 'chair': 40, 'lamp': 14, 'bed': 250, 'mattress': 100, 'pillow': 10, 'shelf': 70, 'sofa': 300}\n",
        "\n",
        "products['sofa'] = 400\n",
        "\n",
        "print(products)\n",
        "#{'table': 120, 'chair': 40, 'lamp': 14, 'bed': 250, 'mattress': 100, 'pillow': 10, 'shelf': 70, 'sofa': 400}\n",
        "\n",
        "# modify the grades of two students\n",
        "print(grades)\n",
        "# {'Alba': 9.5, 'Eduardo': 10, 'Normando': 3.5, 'Helena': 6.5, 'Claudia': 7.5, 'Violeta': 5.5, 'Marco': 6.5, 'Paola': 8}\n",
        "\n",
        "grades.update({'Normando': 2.5, 'Violeta': 6})\n",
        "\n",
        "print(grades)\n",
        "#{'Alba': 9.5, 'Eduardo': 10, 'Normando': 2.5, 'Helena': 6.5, 'Claudia': 7.5, 'Violeta': 6, 'Marco': 6.5, 'Paola': 8}"
      ],
      "execution_count": null,
      "outputs": []
    },
    {
      "cell_type": "code",
      "metadata": {
        "colab": {
          "base_uri": "https://localhost:8080/"
        },
        "id": "B2Exq6LUHcfK",
        "outputId": "786c2a49-130a-444f-9c84-91629fc6e8ce"
      },
      "source": [
        "\n",
        "population = {'Berlin': 3748148, 'Hamburg': 1822445, 'Munich': 1471508, 'Cologne': 1085664, 'Frankfurt': 753056, 'Stuttgart': 632743, \n",
        "'Dusseldorf': 617280}\n",
        "print(population)\n",
        "# key does not exists\n"
      ],
      "execution_count": 3,
      "outputs": [
        {
          "output_type": "stream",
          "name": "stdout",
          "text": [
            "{'Berlin': 3748148, 'Hamburg': 1822445, 'Munich': 1471508, 'Cologne': 1085664, 'Frankfurt': 753056, 'Stuttgart': 632743, 'Dusseldorf': 617280}\n"
          ]
        }
      ]
    },
    {
      "cell_type": "code",
      "metadata": {
        "colab": {
          "base_uri": "https://localhost:8080/"
        },
        "id": "DvS2E3g_qKfZ",
        "outputId": "f299d433-b278-409f-c09b-7b0a6a569ea7"
      },
      "source": [
        "#del population['Ingolstadt']\n",
        "# KeyError\n",
        "# key exists\n",
        "# the element dusseldorf is removed\n",
        "del population['Dusseldorf']\n",
        "\n",
        "print(population)\n",
        "#{'Berlin': 3748148, 'Hamburg': 1822445, 'Munich': 1471508, 'Cologne': 1085664, 'Frankfurt': 753056, 'Stuttgart': 632743}\n",
        "\n",
        "\n"
      ],
      "execution_count": 8,
      "outputs": [
        {
          "output_type": "stream",
          "name": "stdout",
          "text": [
            "{'Berlin': 3748148, 'Hamburg': 1822445, 'Munich': 1471508, 'Cologne': 1085664, 'Frankfurt': 753056, 'Stuttgart': 632743}\n"
          ]
        }
      ]
    },
    {
      "cell_type": "code",
      "metadata": {
        "colab": {
          "base_uri": "https://localhost:8080/",
          "height": 35
        },
        "id": "-OR3fYWbrlCh",
        "outputId": "6395a10a-17ab-43a5-c3ed-e9bcb3a3a4be"
      },
      "source": [
        "population.pop('Ingolstadt', 'not found')"
      ],
      "execution_count": 14,
      "outputs": [
        {
          "output_type": "execute_result",
          "data": {
            "application/vnd.google.colaboratory.intrinsic+json": {
              "type": "string"
            },
            "text/plain": [
              "'not found'"
            ]
          },
          "metadata": {},
          "execution_count": 14
        }
      ]
    },
    {
      "cell_type": "code",
      "metadata": {
        "id": "h409CJFo4AAI"
      },
      "source": [
        "import copy\n",
        "\n",
        "# dictionary with students heights and weights\n",
        "students_weights = {'Marco': [173, 70], 'Luis': [184, 80], 'Andrea': [168, 57]}\n",
        "\n",
        "# create a deep copy\n",
        "students_weights_2 = copy.deepcopy(students_weights)\n",
        "\n",
        "# modify the height of luis in the shallow copy \n",
        "students_weights_2['Luis'][0] = 180\n",
        "\n",
        "# the modification in students_weights_2 is NOT observed in students_weights \n",
        "# since we are working with a deep copy\n",
        "\n",
        "print(students_weights)\n",
        "# {'Marco': [173, 70], 'Luis': [184, 80], 'Andrea': [168, 57]}\n",
        "\n",
        "print(students_weights_2)\n",
        "# {'Marco': [173, 70], 'Luis': [180, 80], 'Andrea': [168, 57]}"
      ],
      "execution_count": null,
      "outputs": []
    },
    {
      "cell_type": "code",
      "metadata": {
        "id": "vvOviNhb5jR4"
      },
      "source": [
        "\n",
        "population= {'Berlin': 4, 'Hamburg': 5, 'Munich': 6, 'Cologne': 5, 'Frankfurt': 10}\n",
        "\n"
      ],
      "execution_count": 16,
      "outputs": []
    },
    {
      "cell_type": "code",
      "metadata": {
        "colab": {
          "base_uri": "https://localhost:8080/"
        },
        "id": "ip210lN-5rqG",
        "outputId": "47bd5f58-a1f1-4233-9511-436eeeb22f33"
      },
      "source": [
        "# iterate through values using dict.values() method\n",
        "inhabitants = 0\n",
        "for number in population.values():\n",
        "    #inhabitants += number\n",
        "  inhabitants= inhabitants+number\n",
        "  \n",
        "    \n",
        "\n",
        "# total number of inhabitants\n",
        "print(inhabitants)\n"
      ],
      "execution_count": 27,
      "outputs": [
        {
          "output_type": "stream",
          "name": "stdout",
          "text": [
            "30\n"
          ]
        }
      ]
    }
  ]
}