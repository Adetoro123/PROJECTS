{
 "cells": [
  {
   "cell_type": "code",
   "execution_count": 153,
   "id": "6873e7b7",
   "metadata": {
    "scrolled": false
   },
   "outputs": [],
   "source": [
    "setwd('C:/Users/Victor Momodu/Documents/ADETORO ESL/EXPORTED DATA')"
   ]
  },
  {
   "cell_type": "code",
   "execution_count": 19,
   "id": "e0f157aa",
   "metadata": {
    "scrolled": true
   },
   "outputs": [
    {
     "name": "stdout",
     "output_type": "stream",
     "text": [
      "package 'readxl' successfully unpacked and MD5 sums checked\n",
      "\n",
      "The downloaded binary packages are in\n",
      "\tC:\\Users\\Victor Momodu\\AppData\\Local\\Temp\\Rtmp886UTX\\downloaded_packages\n"
     ]
    }
   ],
   "source": [
    "install.packages(\"readxl\") #an excel reader"
   ]
  },
  {
   "cell_type": "code",
   "execution_count": 12,
   "id": "fb5a8391",
   "metadata": {
    "scrolled": true
   },
   "outputs": [
    {
     "name": "stderr",
     "output_type": "stream",
     "text": [
      "Warning message:\n",
      "\"package 'readxl' was built under R version 3.6.3\""
     ]
    }
   ],
   "source": [
    "library(readxl)"
   ]
  },
  {
   "cell_type": "code",
   "execution_count": 10,
   "id": "802cf0d4",
   "metadata": {
    "scrolled": true
   },
   "outputs": [
    {
     "data": {
      "text/html": [
       "'C:/Users/Victor Momodu'"
      ],
      "text/latex": [
       "'C:/Users/Victor Momodu'"
      ],
      "text/markdown": [
       "'C:/Users/Victor Momodu'"
      ],
      "text/plain": [
       "[1] \"C:/Users/Victor Momodu\""
      ]
     },
     "metadata": {},
     "output_type": "display_data"
    }
   ],
   "source": [
    "getwd()"
   ]
  },
  {
   "cell_type": "code",
   "execution_count": 13,
   "id": "6fd73909",
   "metadata": {},
   "outputs": [
    {
     "data": {
      "text/html": [
       "<ol class=list-inline>\n",
       "\t<li>'market'</li>\n",
       "\t<li>'moisture'</li>\n",
       "\t<li>'viscosity'</li>\n",
       "\t<li>'specific gravity'</li>\n",
       "\t<li>'IMPURITY'</li>\n",
       "\t<li>'REFRACTIVE INDEX'</li>\n",
       "\t<li>'ACID VALUE'</li>\n",
       "\t<li>'PEROXIDE VALUE'</li>\n",
       "\t<li>'IODINE VALUE'</li>\n",
       "\t<li>'SAPONIFICATION VALUE'</li>\n",
       "</ol>\n"
      ],
      "text/latex": [
       "\\begin{enumerate*}\n",
       "\\item 'market'\n",
       "\\item 'moisture'\n",
       "\\item 'viscosity'\n",
       "\\item 'specific gravity'\n",
       "\\item 'IMPURITY'\n",
       "\\item 'REFRACTIVE INDEX'\n",
       "\\item 'ACID VALUE'\n",
       "\\item 'PEROXIDE VALUE'\n",
       "\\item 'IODINE VALUE'\n",
       "\\item 'SAPONIFICATION VALUE'\n",
       "\\end{enumerate*}\n"
      ],
      "text/markdown": [
       "1. 'market'\n",
       "2. 'moisture'\n",
       "3. 'viscosity'\n",
       "4. 'specific gravity'\n",
       "5. 'IMPURITY'\n",
       "6. 'REFRACTIVE INDEX'\n",
       "7. 'ACID VALUE'\n",
       "8. 'PEROXIDE VALUE'\n",
       "9. 'IODINE VALUE'\n",
       "10. 'SAPONIFICATION VALUE'\n",
       "\n",
       "\n"
      ],
      "text/plain": [
       " [1] \"market\"               \"moisture\"             \"viscosity\"           \n",
       " [4] \"specific gravity\"     \"IMPURITY\"             \"REFRACTIVE INDEX\"    \n",
       " [7] \"ACID VALUE\"           \"PEROXIDE VALUE\"       \"IODINE VALUE\"        \n",
       "[10] \"SAPONIFICATION VALUE\""
      ]
     },
     "metadata": {},
     "output_type": "display_data"
    }
   ],
   "source": [
    "#importing the 60 by 9 Market data set\n",
    "#dataoneway <- read.table(\"onewayanova.txt\",h=T)\n",
    "dataoneway <- read_excel('Palmoil Analysis.xlsx') \n",
    "attach(dataoneway)\n",
    "names(dataoneway)"
   ]
  },
  {
   "cell_type": "code",
   "execution_count": 14,
   "id": "d58b4a49",
   "metadata": {},
   "outputs": [],
   "source": [
    "#NamingEach Market Group Based On the First two letters of the Market Name\n",
    "dataoneway$market <- substr(dataoneway$market, 1, 2)"
   ]
  },
  {
   "cell_type": "code",
   "execution_count": 18,
   "id": "77663f10",
   "metadata": {},
   "outputs": [
    {
     "data": {
      "text/html": [
       "'factor'"
      ],
      "text/latex": [
       "'factor'"
      ],
      "text/markdown": [
       "'factor'"
      ],
      "text/plain": [
       "[1] \"factor\""
      ]
     },
     "metadata": {},
     "output_type": "display_data"
    }
   ],
   "source": [
    "class(dataoneway$Group)"
   ]
  },
  {
   "cell_type": "code",
   "execution_count": 19,
   "id": "09ee3a2f",
   "metadata": {},
   "outputs": [
    {
     "data": {
      "text/html": [
       "<ol class=list-inline>\n",
       "\t<li>'AG'</li>\n",
       "\t<li>'AY'</li>\n",
       "\t<li>'BA'</li>\n",
       "\t<li>'IF'</li>\n",
       "\t<li>'IK'</li>\n",
       "\t<li>'LA'</li>\n",
       "</ol>\n"
      ],
      "text/latex": [
       "\\begin{enumerate*}\n",
       "\\item 'AG'\n",
       "\\item 'AY'\n",
       "\\item 'BA'\n",
       "\\item 'IF'\n",
       "\\item 'IK'\n",
       "\\item 'LA'\n",
       "\\end{enumerate*}\n"
      ],
      "text/markdown": [
       "1. 'AG'\n",
       "2. 'AY'\n",
       "3. 'BA'\n",
       "4. 'IF'\n",
       "5. 'IK'\n",
       "6. 'LA'\n",
       "\n",
       "\n"
      ],
      "text/plain": [
       "[1] \"AG\" \"AY\" \"BA\" \"IF\" \"IK\" \"LA\""
      ]
     },
     "metadata": {},
     "output_type": "display_data"
    }
   ],
   "source": [
    "levels(dataoneway$Group)"
   ]
  },
  {
   "cell_type": "code",
   "execution_count": 20,
   "id": "06a4f41c",
   "metadata": {},
   "outputs": [],
   "source": [
    "#Assumption 2: Dependent variable is continuous\n",
    "\n",
    "#Assumption 3: Normal distributions of each group, no major outliers\n",
    "\n",
    "#Grouping Similar Market Names\n",
    "Group1 <- subset(dataoneway, Group == \"AG\")\n",
    "Group2 <- subset(dataoneway, Group == \"AY\")\n",
    "Group3 <- subset(dataoneway, Group == \"BA\")\n",
    "Group4 <- subset(dataoneway, Group == \"IF\")\n",
    "Group5 <- subset(dataoneway, Group == \"IK\")\n",
    "Group6 <- subset(dataoneway, Group == \"LA\")"
   ]
  },
  {
   "cell_type": "code",
   "execution_count": 21,
   "id": "28294284",
   "metadata": {
    "scrolled": true
   },
   "outputs": [
    {
     "data": {
      "image/png": "[encoded data removed]",
      "text/plain": [
       "Plot with title \"Normal Q-Q Plot\""
      ]
     },
     "metadata": {},
     "output_type": "display_data"
    }
   ],
   "source": [
    "# Assumption 3:Checking if the distribution of moisture values for each group is normal\n",
    "qqnorm(Group1$moisture)\n",
    "qqline(Group1$moisture)"
   ]
  },
  {
   "cell_type": "code",
   "execution_count": 51,
   "id": "4942e023",
   "metadata": {},
   "outputs": [
    {
     "data": {
      "text/plain": [
       "\n",
       "\tBartlett test of homogeneity of variances\n",
       "\n",
       "data:  moisture by Group\n",
       "Bartlett's K-squared = 76.803, df = 5, p-value = 3.91e-15\n"
      ]
     },
     "metadata": {},
     "output_type": "display_data"
    }
   ],
   "source": [
    "#Assumption 4: Homogeneneity of variances\n",
    "bartlett.test(moisture ~ Group, data = dataoneway) # p.value is <0.05 which infers that the variance of moisture groups are not equal"
   ]
  },
  {
   "cell_type": "code",
   "execution_count": 23,
   "id": "97711a20",
   "metadata": {
    "scrolled": false
   },
   "outputs": [
    {
     "data": {
      "text/plain": [
       "\n",
       "\tOne-way analysis of means (not assuming equal variances)\n",
       "\n",
       "data:  moisture and Group\n",
       "F = 14.213, num df = 5.000, denom df = 23.261, p-value = 2.005e-06\n"
      ]
     },
     "metadata": {},
     "output_type": "display_data"
    }
   ],
   "source": [
    "### Welch’s anova for unequal variances\n",
    "\n",
    "oneway.test(moisture ~ Group, data = dataoneway,\n",
    "            var.equal=FALSE)\n",
    "\n",
    " p value is < 0.05, #As the p-value is less than the significance level 0.05, we can conclude that there IS \n",
    "#significant difference IN AT ONE OF THE MARKETS.HENCE, REJECT NULL HYPOTHESIS"
   ]
  },
  {
   "cell_type": "code",
   "execution_count": 27,
   "id": "d959496b",
   "metadata": {
    "scrolled": false
   },
   "outputs": [
    {
     "data": {
      "text/html": [
       "<table>\n",
       "<thead><tr><th></th><th scope=col>Df</th><th scope=col>Sum Sq</th><th scope=col>Mean Sq</th><th scope=col>F value</th><th scope=col>Pr(&gt;F)</th></tr></thead>\n",
       "<tbody>\n",
       "\t<tr><th scope=row>Group</th><td> 5          </td><td>322.6878    </td><td>64.537556   </td><td>18.99525    </td><td>7.468299e-11</td></tr>\n",
       "\t<tr><th scope=row>Residuals</th><td>54          </td><td>183.4684    </td><td> 3.397562   </td><td>      NA    </td><td>          NA</td></tr>\n",
       "</tbody>\n",
       "</table>\n"
      ],
      "text/latex": [
       "\\begin{tabular}{r|lllll}\n",
       "  & Df & Sum Sq & Mean Sq & F value & Pr(>F)\\\\\n",
       "\\hline\n",
       "\tGroup &  5           & 322.6878     & 64.537556    & 18.99525     & 7.468299e-11\\\\\n",
       "\tResiduals & 54           & 183.4684     &  3.397562    &       NA     &           NA\\\\\n",
       "\\end{tabular}\n"
      ],
      "text/markdown": [
       "\n",
       "| <!--/--> | Df | Sum Sq | Mean Sq | F value | Pr(>F) |\n",
       "|---|---|---|---|---|---|\n",
       "| Group |  5           | 322.6878     | 64.537556    | 18.99525     | 7.468299e-11 |\n",
       "| Residuals | 54           | 183.4684     |  3.397562    |       NA     |           NA |\n",
       "\n"
      ],
      "text/plain": [
       "          Df Sum Sq   Mean Sq   F value  Pr(>F)      \n",
       "Group      5 322.6878 64.537556 18.99525 7.468299e-11\n",
       "Residuals 54 183.4684  3.397562       NA           NA"
      ]
     },
     "metadata": {},
     "output_type": "display_data"
    },
    {
     "data": {
      "text/plain": [
       "  Tukey multiple comparisons of means\n",
       "    95% family-wise confidence level\n",
       "\n",
       "Fit: aov(formula = model1)\n",
       "\n",
       "$Group\n",
       "         diff        lwr       upr     p adj\n",
       "AY-AG -0.1181 -2.5535528  2.317353 0.9999911\n",
       "BA-AG  1.4129 -1.0225528  3.848353 0.5288170\n",
       "IF-AG  6.7749  4.3394472  9.210353 0.0000000\n",
       "IK-AG  1.1860 -1.2494528  3.621453 0.7035507\n",
       "LA-AG  2.1729 -0.2625528  4.608353 0.1060838\n",
       "BA-AY  1.5310 -0.9044528  3.966453 0.4390324\n",
       "IF-AY  6.8930  4.4575472  9.328453 0.0000000\n",
       "IK-AY  1.3041 -1.1313528  3.739553 0.6136638\n",
       "LA-AY  2.2910 -0.1444528  4.726453 0.0764498\n",
       "IF-BA  5.3620  2.9265472  7.797453 0.0000004\n",
       "IK-BA -0.2269 -2.6623528  2.208553 0.9997738\n",
       "LA-BA  0.7600 -1.6754528  3.195453 0.9391464\n",
       "IK-IF -5.5889 -8.0243528 -3.153447 0.0000001\n",
       "LA-IF -4.6020 -7.0374528 -2.166547 0.0000114\n",
       "LA-IK  0.9869 -1.4485528  3.422353 0.8362566\n"
      ]
     },
     "metadata": {},
     "output_type": "display_data"
    }
   ],
   "source": [
    "#Post-hoc test TukeyHSD - Test which of the groups have different means\n",
    "model1 = lm(moisture ~ Group, data = dataoneway)\n",
    "anova(model1)\n",
    "\n",
    "#Post-hoc test TukeyHSD - Test which of the groups have different means\n",
    "TukeyHSD(aov(model1)) #P-vale of any 2 groups that is < 0.05 are significantly different"
   ]
  },
  {
   "cell_type": "code",
   "execution_count": 34,
   "id": "1073bb93",
   "metadata": {},
   "outputs": [
    {
     "data": {
      "text/html": [
       "<ol class=list-inline>\n",
       "\t<li>LA</li>\n",
       "\t<li>LA</li>\n",
       "\t<li>LA</li>\n",
       "\t<li>LA</li>\n",
       "\t<li>LA</li>\n",
       "\t<li>LA</li>\n",
       "\t<li>LA</li>\n",
       "\t<li>LA</li>\n",
       "\t<li>LA</li>\n",
       "\t<li>LA</li>\n",
       "\t<li>AY</li>\n",
       "\t<li>AY</li>\n",
       "\t<li>AY</li>\n",
       "\t<li>AY</li>\n",
       "\t<li>AY</li>\n",
       "\t<li>AY</li>\n",
       "\t<li>AY</li>\n",
       "\t<li>AY</li>\n",
       "\t<li>AY</li>\n",
       "\t<li>AY</li>\n",
       "\t<li>IF</li>\n",
       "\t<li>IF</li>\n",
       "\t<li>IF</li>\n",
       "\t<li>IF</li>\n",
       "\t<li>IF</li>\n",
       "\t<li>IF</li>\n",
       "\t<li>IF</li>\n",
       "\t<li>IF</li>\n",
       "\t<li>IF</li>\n",
       "\t<li>IF</li>\n",
       "\t<li>IK</li>\n",
       "\t<li>IK</li>\n",
       "\t<li>IK</li>\n",
       "\t<li>IK</li>\n",
       "\t<li>IK</li>\n",
       "\t<li>IK</li>\n",
       "\t<li>IK</li>\n",
       "\t<li>IK</li>\n",
       "\t<li>IK</li>\n",
       "\t<li>IK</li>\n",
       "\t<li>AG</li>\n",
       "\t<li>AG</li>\n",
       "\t<li>AG</li>\n",
       "\t<li>AG</li>\n",
       "\t<li>AG</li>\n",
       "\t<li>AG</li>\n",
       "\t<li>AG</li>\n",
       "\t<li>AG</li>\n",
       "\t<li>AG</li>\n",
       "\t<li>AG</li>\n",
       "\t<li>BA</li>\n",
       "\t<li>BA</li>\n",
       "\t<li>BA</li>\n",
       "\t<li>BA</li>\n",
       "\t<li>BA</li>\n",
       "\t<li>BA</li>\n",
       "\t<li>BA</li>\n",
       "\t<li>BA</li>\n",
       "\t<li>BA</li>\n",
       "\t<li>BA</li>\n",
       "</ol>\n",
       "\n",
       "<details>\n",
       "\t<summary style=display:list-item;cursor:pointer>\n",
       "\t\t<strong>Levels</strong>:\n",
       "\t</summary>\n",
       "\t<ol class=list-inline>\n",
       "\t\t<li>'AG'</li>\n",
       "\t\t<li>'AY'</li>\n",
       "\t\t<li>'BA'</li>\n",
       "\t\t<li>'IF'</li>\n",
       "\t\t<li>'IK'</li>\n",
       "\t\t<li>'LA'</li>\n",
       "\t</ol>\n",
       "</details>"
      ],
      "text/latex": [
       "\\begin{enumerate*}\n",
       "\\item LA\n",
       "\\item LA\n",
       "\\item LA\n",
       "\\item LA\n",
       "\\item LA\n",
       "\\item LA\n",
       "\\item LA\n",
       "\\item LA\n",
       "\\item LA\n",
       "\\item LA\n",
       "\\item AY\n",
       "\\item AY\n",
       "\\item AY\n",
       "\\item AY\n",
       "\\item AY\n",
       "\\item AY\n",
       "\\item AY\n",
       "\\item AY\n",
       "\\item AY\n",
       "\\item AY\n",
       "\\item IF\n",
       "\\item IF\n",
       "\\item IF\n",
       "\\item IF\n",
       "\\item IF\n",
       "\\item IF\n",
       "\\item IF\n",
       "\\item IF\n",
       "\\item IF\n",
       "\\item IF\n",
       "\\item IK\n",
       "\\item IK\n",
       "\\item IK\n",
       "\\item IK\n",
       "\\item IK\n",
       "\\item IK\n",
       "\\item IK\n",
       "\\item IK\n",
       "\\item IK\n",
       "\\item IK\n",
       "\\item AG\n",
       "\\item AG\n",
       "\\item AG\n",
       "\\item AG\n",
       "\\item AG\n",
       "\\item AG\n",
       "\\item AG\n",
       "\\item AG\n",
       "\\item AG\n",
       "\\item AG\n",
       "\\item BA\n",
       "\\item BA\n",
       "\\item BA\n",
       "\\item BA\n",
       "\\item BA\n",
       "\\item BA\n",
       "\\item BA\n",
       "\\item BA\n",
       "\\item BA\n",
       "\\item BA\n",
       "\\end{enumerate*}\n",
       "\n",
       "\\emph{Levels}: \\begin{enumerate*}\n",
       "\\item 'AG'\n",
       "\\item 'AY'\n",
       "\\item 'BA'\n",
       "\\item 'IF'\n",
       "\\item 'IK'\n",
       "\\item 'LA'\n",
       "\\end{enumerate*}\n"
      ],
      "text/markdown": [
       "1. LA\n",
       "2. LA\n",
       "3. LA\n",
       "4. LA\n",
       "5. LA\n",
       "6. LA\n",
       "7. LA\n",
       "8. LA\n",
       "9. LA\n",
       "10. LA\n",
       "11. AY\n",
       "12. AY\n",
       "13. AY\n",
       "14. AY\n",
       "15. AY\n",
       "16. AY\n",
       "17. AY\n",
       "18. AY\n",
       "19. AY\n",
       "20. AY\n",
       "21. IF\n",
       "22. IF\n",
       "23. IF\n",
       "24. IF\n",
       "25. IF\n",
       "26. IF\n",
       "27. IF\n",
       "28. IF\n",
       "29. IF\n",
       "30. IF\n",
       "31. IK\n",
       "32. IK\n",
       "33. IK\n",
       "34. IK\n",
       "35. IK\n",
       "36. IK\n",
       "37. IK\n",
       "38. IK\n",
       "39. IK\n",
       "40. IK\n",
       "41. AG\n",
       "42. AG\n",
       "43. AG\n",
       "44. AG\n",
       "45. AG\n",
       "46. AG\n",
       "47. AG\n",
       "48. AG\n",
       "49. AG\n",
       "50. AG\n",
       "51. BA\n",
       "52. BA\n",
       "53. BA\n",
       "54. BA\n",
       "55. BA\n",
       "56. BA\n",
       "57. BA\n",
       "58. BA\n",
       "59. BA\n",
       "60. BA\n",
       "\n",
       "\n",
       "\n",
       "**Levels**: 1. 'AG'\n",
       "2. 'AY'\n",
       "3. 'BA'\n",
       "4. 'IF'\n",
       "5. 'IK'\n",
       "6. 'LA'\n",
       "\n",
       "\n"
      ],
      "text/plain": [
       " [1] LA LA LA LA LA LA LA LA LA LA AY AY AY AY AY AY AY AY AY AY IF IF IF IF IF\n",
       "[26] IF IF IF IF IF IK IK IK IK IK IK IK IK IK IK AG AG AG AG AG AG AG AG AG AG\n",
       "[51] BA BA BA BA BA BA BA BA BA BA\n",
       "Levels: AG AY BA IF IK LA"
      ]
     },
     "metadata": {},
     "output_type": "display_data"
    }
   ],
   "source": [
    "dataoneway$Group"
   ]
  },
  {
   "cell_type": "code",
   "execution_count": 39,
   "id": "de3652d5",
   "metadata": {},
   "outputs": [],
   "source": [
    "#Data visualization snip will be shared"
   ]
  },
  {
   "cell_type": "code",
   "execution_count": 41,
   "id": "e8045515",
   "metadata": {},
   "outputs": [],
   "source": [
    "#Viscosity"
   ]
  },
  {
   "cell_type": "code",
   "execution_count": 43,
   "id": "b885d20e",
   "metadata": {},
   "outputs": [
    {
     "data": {
      "image/png": "[encoded data removed]",
      "text/plain": [
       "Plot with title \"Normal Q-Q Plot\""
      ]
     },
     "metadata": {},
     "output_type": "display_data"
    }
   ],
   "source": [
    "# Assumption 3:Checking if the distribution of moisture values for each group is normal\n",
    "qqnorm(Group1$viscosity)\n",
    "qqline(Group1$viscosity)"
   ]
  },
  {
   "cell_type": "code",
   "execution_count": 45,
   "id": "1680b649",
   "metadata": {},
   "outputs": [
    {
     "data": {
      "image/png": "[encoded data removed]",
      "text/plain": [
       "Plot with title \"Normal Q-Q Plot\""
      ]
     },
     "metadata": {},
     "output_type": "display_data"
    }
   ],
   "source": [
    "qqnorm(Group2$viscosity)\n",
    "qqline(Group2$viscosity)"
   ]
  },
  {
   "cell_type": "code",
   "execution_count": 47,
   "id": "9536176e",
   "metadata": {},
   "outputs": [
    {
     "data": {
      "image/png": "[encoded data removed]",
      "text/plain": [
       "Plot with title \"Normal Q-Q Plot\""
      ]
     },
     "metadata": {},
     "output_type": "display_data"
    }
   ],
   "source": [
    "qqnorm(Group3$viscosity)\n",
    "qqline(Group3$viscosity)"
   ]
  },
  {
   "cell_type": "code",
   "execution_count": 49,
   "id": "bc9a1c12",
   "metadata": {},
   "outputs": [
    {
     "data": {
      "image/png": "[encoded data removed]",
      "text/plain": [
       "Plot with title \"Normal Q-Q Plot\""
      ]
     },
     "metadata": {},
     "output_type": "display_data"
    }
   ],
   "source": [
    "qqnorm(Group4$viscosity)\n",
    "qqline(Group4$viscosity)"
   ]
  },
  {
   "cell_type": "code",
   "execution_count": 52,
   "id": "2f4d0f3b",
   "metadata": {},
   "outputs": [
    {
     "data": {
      "image/png": "[encoded data removed]",
      "text/plain": [
       "Plot with title \"Normal Q-Q Plot\""
      ]
     },
     "metadata": {},
     "output_type": "display_data"
    }
   ],
   "source": [
    "qqnorm(Group5$viscosity)\n",
    "qqline(Group5$viscosity)"
   ]
  },
  {
   "cell_type": "code",
   "execution_count": 54,
   "id": "9ce378c2",
   "metadata": {},
   "outputs": [
    {
     "data": {
      "text/plain": [
       "\n",
       "\tBartlett test of homogeneity of variances\n",
       "\n",
       "data:  viscosity by Group\n",
       "Bartlett's K-squared = 267.52, df = 5, p-value < 2.2e-16\n"
      ]
     },
     "metadata": {},
     "output_type": "display_data"
    }
   ],
   "source": [
    "#Assumption 4: Homogeneneity of variances\n",
    "bartlett.test(viscosity ~ Group, data = dataoneway) # p.value is <0.05 which infers that the variance of viscosity across\n",
    "#groups are not equal"
   ]
  },
  {
   "cell_type": "code",
   "execution_count": 57,
   "id": "e51e52cc",
   "metadata": {},
   "outputs": [
    {
     "data": {
      "text/plain": [
       "\n",
       "\tOne-way analysis of means (not assuming equal variances)\n",
       "\n",
       "data:  viscosity and Group\n",
       "F = 3.0595, num df = 5.000, denom df = 24.216, p-value = 0.02804\n"
      ]
     },
     "metadata": {},
     "output_type": "display_data"
    }
   ],
   "source": [
    "### Welch’s anova for unequal variances\n",
    "\n",
    "oneway.test(viscosity ~ Group, data = dataoneway,\n",
    "            var.equal=FALSE)\n",
    "\n",
    " #p value is < 0.05, #As the p-value is less than the significance level 0.05, we can conclude that there are \n",
    "#significant difference IN AT ONE OF THE MARKETS VALUES"
   ]
  },
  {
   "cell_type": "code",
   "execution_count": 58,
   "id": "d71d2e39",
   "metadata": {},
   "outputs": [
    {
     "data": {
      "text/html": [
       "<table>\n",
       "<thead><tr><th></th><th scope=col>Df</th><th scope=col>Sum Sq</th><th scope=col>Mean Sq</th><th scope=col>F value</th><th scope=col>Pr(&gt;F)</th></tr></thead>\n",
       "<tbody>\n",
       "\t<tr><th scope=row>Group</th><td> 5         </td><td>13506122   </td><td>2701224.5  </td><td>4.80104    </td><td>0.001055794</td></tr>\n",
       "\t<tr><th scope=row>Residuals</th><td>54         </td><td>30382191   </td><td> 562633.2  </td><td>     NA    </td><td>         NA</td></tr>\n",
       "</tbody>\n",
       "</table>\n"
      ],
      "text/latex": [
       "\\begin{tabular}{r|lllll}\n",
       "  & Df & Sum Sq & Mean Sq & F value & Pr(>F)\\\\\n",
       "\\hline\n",
       "\tGroup &  5          & 13506122    & 2701224.5   & 4.80104     & 0.001055794\\\\\n",
       "\tResiduals & 54          & 30382191    &  562633.2   &      NA     &          NA\\\\\n",
       "\\end{tabular}\n"
      ],
      "text/markdown": [
       "\n",
       "| <!--/--> | Df | Sum Sq | Mean Sq | F value | Pr(>F) |\n",
       "|---|---|---|---|---|---|\n",
       "| Group |  5          | 13506122    | 2701224.5   | 4.80104     | 0.001055794 |\n",
       "| Residuals | 54          | 30382191    |  562633.2   |      NA     |          NA |\n",
       "\n"
      ],
      "text/plain": [
       "          Df Sum Sq   Mean Sq   F value Pr(>F)     \n",
       "Group      5 13506122 2701224.5 4.80104 0.001055794\n",
       "Residuals 54 30382191  562633.2      NA          NA"
      ]
     },
     "metadata": {},
     "output_type": "display_data"
    },
    {
     "data": {
      "text/plain": [
       "  Tukey multiple comparisons of means\n",
       "    95% family-wise confidence level\n",
       "\n",
       "Fit: aov(formula = model1)\n",
       "\n",
       "$Group\n",
       "           diff        lwr       upr     p adj\n",
       "AY-AG -1289.459 -2280.5389 -298.3791 0.0041366\n",
       "BA-AG -1271.776 -2262.8559 -280.6961 0.0048589\n",
       "IF-AG -1259.874 -2250.9539 -268.7941 0.0054104\n",
       "IK-AG -1261.340 -2252.4199 -270.2601 0.0053394\n",
       "LA-AG -1281.420 -2272.4999 -290.3401 0.0044514\n",
       "BA-AY    17.683  -973.3969 1008.7629 0.9999999\n",
       "IF-AY    29.585  -961.4949 1020.6649 0.9999992\n",
       "IK-AY    28.119  -962.9609 1019.1989 0.9999994\n",
       "LA-AY     8.039  -983.0409  999.1189 1.0000000\n",
       "IF-BA    11.902  -979.1779 1002.9819 1.0000000\n",
       "IK-BA    10.436  -980.6439 1001.5159 1.0000000\n",
       "LA-BA    -9.644 -1000.7239  981.4359 1.0000000\n",
       "IK-IF    -1.466  -992.5459  989.6139 1.0000000\n",
       "LA-IF   -21.546 -1012.6259  969.5339 0.9999998\n",
       "LA-IK   -20.080 -1011.1599  970.9999 0.9999999\n"
      ]
     },
     "metadata": {},
     "output_type": "display_data"
    }
   ],
   "source": [
    "#Post-hoc test TukeyHSD - Test which of the groups have different means\n",
    "model1 = lm(viscosity ~ Group, data = dataoneway)\n",
    "anova(model1)\n",
    "\n",
    "#Post-hoc test TukeyHSD - Test which of the groups have different means\n",
    "TukeyHSD(aov(model1)) #P-vale of any 2 groups that is < 0.05 are significantly different"
   ]
  },
  {
   "cell_type": "code",
   "execution_count": null,
   "id": "7489710c",
   "metadata": {},
   "outputs": [],
   "source": [
    "#Specific Gravity"
   ]
  },
  {
   "cell_type": "code",
   "execution_count": 67,
   "id": "a41b880c",
   "metadata": {},
   "outputs": [
    {
     "data": {
      "image/png": "[encoded data removed]",
      "text/plain": [
       "Plot with title \"Normal Q-Q Plot\""
      ]
     },
     "metadata": {},
     "output_type": "display_data"
    }
   ],
   "source": [
    "# Assumption 3:Checking if the distribution of moisture values for each group is normal\n",
    "qqnorm(Group1$`specific gravity`)\n",
    "qqline(Group1$`specific gravity`)"
   ]
  },
  {
   "cell_type": "code",
   "execution_count": 68,
   "id": "0668925e",
   "metadata": {},
   "outputs": [
    {
     "data": {
      "image/png": "[encoded data removed]",
      "text/plain": [
       "Plot with title \"Normal Q-Q Plot\""
      ]
     },
     "metadata": {},
     "output_type": "display_data"
    }
   ],
   "source": [
    "qqnorm(Group2$`specific gravity`)\n",
    "qqline(Group2$`specific gravity`)"
   ]
  },
  {
   "cell_type": "code",
   "execution_count": 69,
   "id": "6f0a1a41",
   "metadata": {},
   "outputs": [
    {
     "data": {
      "image/png": "[encoded data removed]",
      "text/plain": [
       "Plot with title \"Normal Q-Q Plot\""
      ]
     },
     "metadata": {},
     "output_type": "display_data"
    }
   ],
   "source": [
    "qqnorm(Group3$`specific gravity`)\n",
    "qqline(Group3$`specific gravity`)"
   ]
  },
  {
   "cell_type": "code",
   "execution_count": 70,
   "id": "03d3456f",
   "metadata": {},
   "outputs": [
    {
     "data": {
      "image/png": "[encoded data removed]",
      "text/plain": [
       "Plot with title \"Normal Q-Q Plot\""
      ]
     },
     "metadata": {},
     "output_type": "display_data"
    }
   ],
   "source": [
    "qqnorm(Group4$`specific gravity`)\n",
    "qqline(Group4$`specific gravity`)"
   ]
  },
  {
   "cell_type": "code",
   "execution_count": 71,
   "id": "7f0d70fa",
   "metadata": {},
   "outputs": [
    {
     "data": {
      "image/png": "[encoded data removed]",
      "text/plain": [
       "Plot with title \"Normal Q-Q Plot\""
      ]
     },
     "metadata": {},
     "output_type": "display_data"
    }
   ],
   "source": [
    "qqnorm(Group5$`specific gravity`)\n",
    "qqline(Group5$`specific gravity`)"
   ]
  },
  {
   "cell_type": "code",
   "execution_count": 72,
   "id": "053c5d6d",
   "metadata": {
    "scrolled": true
   },
   "outputs": [
    {
     "data": {
      "text/plain": [
       "\n",
       "\tBartlett test of homogeneity of variances\n",
       "\n",
       "data:  specific gravity by Group\n",
       "Bartlett's K-squared = 42.721, df = 5, p-value = 4.208e-08\n"
      ]
     },
     "metadata": {},
     "output_type": "display_data"
    }
   ],
   "source": [
    "#Assumption 4: Homogeneneity of variances\n",
    "bartlett.test(`specific gravity` ~ Group, data = dataoneway) # p.value is <0.05 which infers that the variance of `specific gravity` across\n",
    "#groups are not equal"
   ]
  },
  {
   "cell_type": "code",
   "execution_count": 74,
   "id": "52cbb274",
   "metadata": {},
   "outputs": [
    {
     "data": {
      "text/plain": [
       "\n",
       "\tOne-way analysis of means (not assuming equal variances)\n",
       "\n",
       "data:  `specific gravity` and Group\n",
       "F = 3.3816, num df = 5.000, denom df = 24.562, p-value = 0.01837\n"
      ]
     },
     "metadata": {},
     "output_type": "display_data"
    }
   ],
   "source": [
    "### Welch’s anova for unequal variances\n",
    "\n",
    "oneway.test(`specific gravity` ~ Group, data = dataoneway,\n",
    "            var.equal=FALSE)\n",
    "\n",
    " #p value is < 0.05, #As the p-value is less than the significance level 0.05, we can conclude that there are \n",
    "#significant differences between the treatment groups."
   ]
  },
  {
   "cell_type": "code",
   "execution_count": 75,
   "id": "48b38550",
   "metadata": {},
   "outputs": [
    {
     "data": {
      "text/html": [
       "<table>\n",
       "<thead><tr><th></th><th scope=col>Df</th><th scope=col>Sum Sq</th><th scope=col>Mean Sq</th><th scope=col>F value</th><th scope=col>Pr(&gt;F)</th></tr></thead>\n",
       "<tbody>\n",
       "\t<tr><th scope=row>Group</th><td> 5          </td><td>0.000650230 </td><td>1.300460e-04</td><td>2.233028    </td><td>0.06409146  </td></tr>\n",
       "\t<tr><th scope=row>Residuals</th><td>54          </td><td>0.003144826 </td><td>5.823752e-05</td><td>      NA    </td><td>        NA  </td></tr>\n",
       "</tbody>\n",
       "</table>\n"
      ],
      "text/latex": [
       "\\begin{tabular}{r|lllll}\n",
       "  & Df & Sum Sq & Mean Sq & F value & Pr(>F)\\\\\n",
       "\\hline\n",
       "\tGroup &  5           & 0.000650230  & 1.300460e-04 & 2.233028     & 0.06409146  \\\\\n",
       "\tResiduals & 54           & 0.003144826  & 5.823752e-05 &       NA     &         NA  \\\\\n",
       "\\end{tabular}\n"
      ],
      "text/markdown": [
       "\n",
       "| <!--/--> | Df | Sum Sq | Mean Sq | F value | Pr(>F) |\n",
       "|---|---|---|---|---|---|\n",
       "| Group |  5           | 0.000650230  | 1.300460e-04 | 2.233028     | 0.06409146   |\n",
       "| Residuals | 54           | 0.003144826  | 5.823752e-05 |       NA     |         NA   |\n",
       "\n"
      ],
      "text/plain": [
       "          Df Sum Sq      Mean Sq      F value  Pr(>F)    \n",
       "Group      5 0.000650230 1.300460e-04 2.233028 0.06409146\n",
       "Residuals 54 0.003144826 5.823752e-05       NA         NA"
      ]
     },
     "metadata": {},
     "output_type": "display_data"
    },
    {
     "data": {
      "text/plain": [
       "  Tukey multiple comparisons of means\n",
       "    95% family-wise confidence level\n",
       "\n",
       "Fit: aov(formula = model1)\n",
       "\n",
       "$Group\n",
       "          diff          lwr          upr     p adj\n",
       "AY-AG  0.00785 -0.002233178  0.017933178 0.2119178\n",
       "BA-AG  0.00095 -0.009133178  0.011033178 0.9997610\n",
       "IF-AG -0.00015 -0.010233178  0.009933178 1.0000000\n",
       "IK-AG  0.00268 -0.007403178  0.012763178 0.9688807\n",
       "LA-AG -0.00275 -0.012833178  0.007333178 0.9652514\n",
       "BA-AY -0.00690 -0.016983178  0.003183178 0.3438756\n",
       "IF-AY -0.00800 -0.018083178  0.002083178 0.1948196\n",
       "IK-AY -0.00517 -0.015253178  0.004913178 0.6563801\n",
       "LA-AY -0.01060 -0.020683178 -0.000516822 0.0339664\n",
       "IF-BA -0.00110 -0.011183178  0.008983178 0.9995105\n",
       "IK-BA  0.00173 -0.008353178  0.011813178 0.9957006\n",
       "LA-BA -0.00370 -0.013783178  0.006383178 0.8855744\n",
       "IK-IF  0.00283 -0.007253178  0.012913178 0.9607582\n",
       "LA-IF -0.00260 -0.012683178  0.007483178 0.9726955\n",
       "LA-IK -0.00543 -0.015513178  0.004653178 0.6078738\n"
      ]
     },
     "metadata": {},
     "output_type": "display_data"
    }
   ],
   "source": [
    "#Post-hoc test TukeyHSD - Test which of the groups have different means\n",
    "model1 = lm(`specific gravity` ~ Group, data = dataoneway)\n",
    "anova(model1)\n",
    "\n",
    "#Post-hoc test TukeyHSD - Test which of the groups have different means\n",
    "TukeyHSD(aov(model1)) #P-vale of any 2 groups that is < 0.05 are significantly different"
   ]
  },
  {
   "cell_type": "code",
   "execution_count": 86,
   "id": "50ca3871",
   "metadata": {},
   "outputs": [
    {
     "data": {
      "image/png": "[encoded data removed]",
      "text/plain": [
       "Plot with title \"Normal Q-Q Plot\""
      ]
     },
     "metadata": {},
     "output_type": "display_data"
    }
   ],
   "source": [
    "qqnorm(Group1$IMPURITY)\n",
    "qqline(Group1$IMPURITY)"
   ]
  },
  {
   "cell_type": "code",
   "execution_count": 85,
   "id": "1ac6b2a6",
   "metadata": {},
   "outputs": [
    {
     "data": {
      "image/png": "[encoded data removed]",
      "text/plain": [
       "Plot with title \"Normal Q-Q Plot\""
      ]
     },
     "metadata": {},
     "output_type": "display_data"
    }
   ],
   "source": [
    "qqnorm(Group2$IMPURITY)\n",
    "qqline(Group2$IMPURITY)"
   ]
  },
  {
   "cell_type": "code",
   "execution_count": 84,
   "id": "337dc655",
   "metadata": {},
   "outputs": [
    {
     "data": {
      "image/png": "[encoded data removed]",
      "text/plain": [
       "Plot with title \"Normal Q-Q Plot\""
      ]
     },
     "metadata": {},
     "output_type": "display_data"
    }
   ],
   "source": [
    "qqnorm(Group3$IMPURITY)\n",
    "qqline(Group3$IMPURITY)"
   ]
  },
  {
   "cell_type": "code",
   "execution_count": 83,
   "id": "4372980c",
   "metadata": {
    "scrolled": true
   },
   "outputs": [
    {
     "data": {
      "image/png": "[encoded data removed]",
      "text/plain": [
       "Plot with title \"Normal Q-Q Plot\""
      ]
     },
     "metadata": {},
     "output_type": "display_data"
    }
   ],
   "source": [
    "qqnorm(Group4$IMPURITY)\n",
    "qqline(Group4$IMPURITY)"
   ]
  },
  {
   "cell_type": "code",
   "execution_count": 82,
   "id": "1c8f1b0b",
   "metadata": {
    "scrolled": true
   },
   "outputs": [
    {
     "data": {
      "image/png": "[encoded data removed]",
      "text/plain": [
       "Plot with title \"Normal Q-Q Plot\""
      ]
     },
     "metadata": {},
     "output_type": "display_data"
    }
   ],
   "source": [
    "qqnorm(Group5$IMPURITY)\n",
    "qqline(Group5$IMPURITY)"
   ]
  },
  {
   "cell_type": "code",
   "execution_count": null,
   "id": "11a7cc2d",
   "metadata": {},
   "outputs": [],
   "source": [
    "IMPURITY"
   ]
  },
  {
   "cell_type": "code",
   "execution_count": 79,
   "id": "2fb270ea",
   "metadata": {
    "scrolled": true
   },
   "outputs": [
    {
     "data": {
      "text/plain": [
       "\n",
       "\tBartlett test of homogeneity of variances\n",
       "\n",
       "data:  IMPURITY by Group\n",
       "Bartlett's K-squared = 156.99, df = 5, p-value < 2.2e-16\n"
      ]
     },
     "metadata": {},
     "output_type": "display_data"
    }
   ],
   "source": [
    "#Assumption 4: Homogeneneity of variances\n",
    "bartlett.test(IMPURITY ~ Group, data = dataoneway) # p.value is <0.05 which infers that the variance of `specific gravity` across\n",
    "#groups are not equal"
   ]
  },
  {
   "cell_type": "code",
   "execution_count": 80,
   "id": "0035b7bb",
   "metadata": {},
   "outputs": [
    {
     "data": {
      "text/plain": [
       "\n",
       "\tOne-way analysis of means (not assuming equal variances)\n",
       "\n",
       "data:  IMPURITY and Group\n",
       "F = 97.178, num df = 5.000, denom df = 22.774, p-value = 1.381e-14\n"
      ]
     },
     "metadata": {},
     "output_type": "display_data"
    }
   ],
   "source": [
    "### Welch’s anova for unequal variances\n",
    "\n",
    "oneway.test(IMPURITY ~ Group, data = dataoneway,\n",
    "            var.equal=FALSE)\n",
    "\n",
    " #p value is < 0.05, #As the p-value is less than the significance level 0.05, we can conclude that there are \n",
    "#significant differences between the treatment groups."
   ]
  },
  {
   "cell_type": "code",
   "execution_count": 81,
   "id": "de0a5d2e",
   "metadata": {},
   "outputs": [
    {
     "data": {
      "text/html": [
       "<table>\n",
       "<thead><tr><th></th><th scope=col>Df</th><th scope=col>Sum Sq</th><th scope=col>Mean Sq</th><th scope=col>F value</th><th scope=col>Pr(&gt;F)</th></tr></thead>\n",
       "<tbody>\n",
       "\t<tr><th scope=row>Group</th><td> 5          </td><td>2389.0864   </td><td>477.817272  </td><td>94.10681    </td><td>2.115845e-25</td></tr>\n",
       "\t<tr><th scope=row>Residuals</th><td>54          </td><td> 274.1792   </td><td>  5.077393  </td><td>      NA    </td><td>          NA</td></tr>\n",
       "</tbody>\n",
       "</table>\n"
      ],
      "text/latex": [
       "\\begin{tabular}{r|lllll}\n",
       "  & Df & Sum Sq & Mean Sq & F value & Pr(>F)\\\\\n",
       "\\hline\n",
       "\tGroup &  5           & 2389.0864    & 477.817272   & 94.10681     & 2.115845e-25\\\\\n",
       "\tResiduals & 54           &  274.1792    &   5.077393   &       NA     &           NA\\\\\n",
       "\\end{tabular}\n"
      ],
      "text/markdown": [
       "\n",
       "| <!--/--> | Df | Sum Sq | Mean Sq | F value | Pr(>F) |\n",
       "|---|---|---|---|---|---|\n",
       "| Group |  5           | 2389.0864    | 477.817272   | 94.10681     | 2.115845e-25 |\n",
       "| Residuals | 54           |  274.1792    |   5.077393   |       NA     |           NA |\n",
       "\n"
      ],
      "text/plain": [
       "          Df Sum Sq    Mean Sq    F value  Pr(>F)      \n",
       "Group      5 2389.0864 477.817272 94.10681 2.115845e-25\n",
       "Residuals 54  274.1792   5.077393       NA           NA"
      ]
     },
     "metadata": {},
     "output_type": "display_data"
    },
    {
     "data": {
      "text/plain": [
       "  Tukey multiple comparisons of means\n",
       "    95% family-wise confidence level\n",
       "\n",
       "Fit: aov(formula = model1)\n",
       "\n",
       "$Group\n",
       "         diff       lwr       upr     p adj\n",
       "AY-AG -0.0381 -3.015357  2.939157 1.0000000\n",
       "BA-AG -0.0690 -3.046257  2.908257 0.9999998\n",
       "IF-AG  6.9740  3.996743  9.951257 0.0000001\n",
       "IK-AG 15.9620 12.984743 18.939257 0.0000000\n",
       "LA-AG 11.4690  8.491743 14.446257 0.0000000\n",
       "BA-AY -0.0309 -3.008157  2.946357 1.0000000\n",
       "IF-AY  7.0121  4.034843  9.989357 0.0000001\n",
       "IK-AY 16.0001 13.022843 18.977357 0.0000000\n",
       "LA-AY 11.5071  8.529843 14.484357 0.0000000\n",
       "IF-BA  7.0430  4.065743 10.020257 0.0000001\n",
       "IK-BA 16.0310 13.053743 19.008257 0.0000000\n",
       "LA-BA 11.5380  8.560743 14.515257 0.0000000\n",
       "IK-IF  8.9880  6.010743 11.965257 0.0000000\n",
       "LA-IF  4.4950  1.517743  7.472257 0.0005726\n",
       "LA-IK -4.4930 -7.470257 -1.515743 0.0005764\n"
      ]
     },
     "metadata": {},
     "output_type": "display_data"
    }
   ],
   "source": [
    "#Post-hoc test TukeyHSD - Test which of the groups have different means\n",
    "model1 = lm(IMPURITY ~ Group, data = dataoneway)\n",
    "anova(model1)\n",
    "\n",
    "#Post-hoc test TukeyHSD - Test which of the groups have different means\n",
    "TukeyHSD(aov(model1)) #P-vale of any 2 groups that is < 0.05 are significantly different"
   ]
  },
  {
   "cell_type": "code",
   "execution_count": 89,
   "id": "69faf2d2",
   "metadata": {},
   "outputs": [
    {
     "data": {
      "image/png": "[encoded data removed]",
      "text/plain": [
       "Plot with title \"Normal Q-Q Plot\""
      ]
     },
     "metadata": {},
     "output_type": "display_data"
    }
   ],
   "source": [
    "##REFRACTIVE INDEX\n",
    "\n",
    "qqnorm(Group1$`REFRACTIVE INDEX`)\n",
    "qqline(Group1$`REFRACTIVE INDEX`)"
   ]
  },
  {
   "cell_type": "code",
   "execution_count": 90,
   "id": "4588abf2",
   "metadata": {},
   "outputs": [
    {
     "data": {
      "image/png": "[encoded data removed]",
      "text/plain": [
       "Plot with title \"Normal Q-Q Plot\""
      ]
     },
     "metadata": {},
     "output_type": "display_data"
    }
   ],
   "source": [
    "qqnorm(Group2$`REFRACTIVE INDEX`)\n",
    "qqline(Group2$`REFRACTIVE INDEX`)"
   ]
  },
  {
   "cell_type": "code",
   "execution_count": 91,
   "id": "88d7104d",
   "metadata": {},
   "outputs": [
    {
     "data": {
      "image/png": "[encoded data removed]",
      "text/plain": [
       "Plot with title \"Normal Q-Q Plot\""
      ]
     },
     "metadata": {},
     "output_type": "display_data"
    }
   ],
   "source": [
    "qqnorm(Group3$`REFRACTIVE INDEX`)\n",
    "qqline(Group3$`REFRACTIVE INDEX`)"
   ]
  },
  {
   "cell_type": "code",
   "execution_count": 92,
   "id": "f8dfc826",
   "metadata": {},
   "outputs": [
    {
     "data": {
      "image/png": "[encoded data removed]",
      "text/plain": [
       "Plot with title \"Normal Q-Q Plot\""
      ]
     },
     "metadata": {},
     "output_type": "display_data"
    }
   ],
   "source": [
    "qqnorm(Group4$`REFRACTIVE INDEX`)\n",
    "qqline(Group4$`REFRACTIVE INDEX`)"
   ]
  },
  {
   "cell_type": "code",
   "execution_count": 93,
   "id": "4a0aca5b",
   "metadata": {
    "scrolled": true
   },
   "outputs": [
    {
     "data": {
      "image/png": "[encoded data removed]",
      "text/plain": [
       "Plot with title \"Normal Q-Q Plot\""
      ]
     },
     "metadata": {},
     "output_type": "display_data"
    }
   ],
   "source": [
    "qqnorm(Group5$`REFRACTIVE INDEX`)\n",
    "qqline(Group5$`REFRACTIVE INDEX`)"
   ]
  },
  {
   "cell_type": "code",
   "execution_count": 102,
   "id": "a481c17b",
   "metadata": {},
   "outputs": [
    {
     "data": {
      "text/plain": [
       "\n",
       "\tOne-way analysis of means\n",
       "\n",
       "data:  `REFRACTIVE INDEX` and Group\n",
       "F = 0.98609, num df = 5, denom df = 54, p-value = 0.4348\n"
      ]
     },
     "metadata": {},
     "output_type": "display_data"
    }
   ],
   "source": [
    "### Welch’s anova for unequal variances\n",
    "\n",
    "oneway.test(`REFRACTIVE INDEX` ~ Group, data = dataoneway,\n",
    "            var.equal=TRUE)\n",
    "\n",
    " #p value is < 0.05, there is a difference in viscosity between markets"
   ]
  },
  {
   "cell_type": "code",
   "execution_count": 105,
   "id": "586ca0fb",
   "metadata": {},
   "outputs": [
    {
     "name": "stderr",
     "output_type": "stream",
     "text": [
      "Loading required package: carData\n",
      "Warning message:\n",
      "\"package 'carData' was built under R version 3.6.3\""
     ]
    }
   ],
   "source": [
    "library('car')"
   ]
  },
  {
   "cell_type": "code",
   "execution_count": 106,
   "id": "2aae81c1",
   "metadata": {
    "scrolled": true
   },
   "outputs": [
    {
     "data": {
      "text/html": [
       "<table>\n",
       "<thead><tr><th></th><th scope=col>Df</th><th scope=col>F value</th><th scope=col>Pr(&gt;F)</th></tr></thead>\n",
       "<tbody>\n",
       "\t<tr><th scope=row>group</th><td> 5       </td><td>0.986087 </td><td>0.4348486</td></tr>\n",
       "\t<tr><th scope=row> </th><td>54       </td><td>      NA </td><td>       NA</td></tr>\n",
       "</tbody>\n",
       "</table>\n"
      ],
      "text/latex": [
       "\\begin{tabular}{r|lll}\n",
       "  & Df & F value & Pr(>F)\\\\\n",
       "\\hline\n",
       "\tgroup &  5        & 0.986087  & 0.4348486\\\\\n",
       "\t  & 54        &       NA  &        NA\\\\\n",
       "\\end{tabular}\n"
      ],
      "text/markdown": [
       "\n",
       "| <!--/--> | Df | F value | Pr(>F) |\n",
       "|---|---|---|---|\n",
       "| group |  5        | 0.986087  | 0.4348486 |\n",
       "|   | 54        |       NA  |        NA |\n",
       "\n"
      ],
      "text/plain": [
       "      Df F value  Pr(>F)   \n",
       "group  5 0.986087 0.4348486\n",
       "      54       NA        NA"
      ]
     },
     "metadata": {},
     "output_type": "display_data"
    }
   ],
   "source": [
    "#Levene Test is an alternative to bartlett.test. It is considered when the p_vale from welch anova is NA, that is the no significance \n",
    "#difference in the refractive index between markets\n",
    "leveneTest(`REFRACTIVE INDEX` ~ Group, data = dataoneway) "
   ]
  },
  {
   "cell_type": "code",
   "execution_count": 98,
   "id": "7480c42d",
   "metadata": {},
   "outputs": [
    {
     "data": {
      "text/html": [
       "<table>\n",
       "<thead><tr><th></th><th scope=col>Df</th><th scope=col>Sum Sq</th><th scope=col>Mean Sq</th><th scope=col>F value</th><th scope=col>Pr(&gt;F)</th></tr></thead>\n",
       "<tbody>\n",
       "\t<tr><th scope=row>Group</th><td> 5          </td><td>0.000315    </td><td>6.300000e-05</td><td>0.986087    </td><td>0.4348486   </td></tr>\n",
       "\t<tr><th scope=row>Residuals</th><td>54          </td><td>0.003450    </td><td>6.388889e-05</td><td>      NA    </td><td>       NA   </td></tr>\n",
       "</tbody>\n",
       "</table>\n"
      ],
      "text/latex": [
       "\\begin{tabular}{r|lllll}\n",
       "  & Df & Sum Sq & Mean Sq & F value & Pr(>F)\\\\\n",
       "\\hline\n",
       "\tGroup &  5           & 0.000315     & 6.300000e-05 & 0.986087     & 0.4348486   \\\\\n",
       "\tResiduals & 54           & 0.003450     & 6.388889e-05 &       NA     &        NA   \\\\\n",
       "\\end{tabular}\n"
      ],
      "text/markdown": [
       "\n",
       "| <!--/--> | Df | Sum Sq | Mean Sq | F value | Pr(>F) |\n",
       "|---|---|---|---|---|---|\n",
       "| Group |  5           | 0.000315     | 6.300000e-05 | 0.986087     | 0.4348486    |\n",
       "| Residuals | 54           | 0.003450     | 6.388889e-05 |       NA     |        NA    |\n",
       "\n"
      ],
      "text/plain": [
       "          Df Sum Sq   Mean Sq      F value  Pr(>F)   \n",
       "Group      5 0.000315 6.300000e-05 0.986087 0.4348486\n",
       "Residuals 54 0.003450 6.388889e-05       NA        NA"
      ]
     },
     "metadata": {},
     "output_type": "display_data"
    }
   ],
   "source": [
    "#Unlike other parameters,One way ANova Test is used here because there is no significance difference in the values of \n",
    "#refractive index\n",
    "model1 = lm(`REFRACTIVE INDEX` ~ Group, data = dataoneway)\n",
    "anova(model1)\n",
    "\n",
    " #p value is > 0.05, there is no significance difference in refractive index between markets, HENCE, ACCEPT NULL HYPOTHESIS"
   ]
  },
  {
   "cell_type": "code",
   "execution_count": 97,
   "id": "04885244",
   "metadata": {},
   "outputs": [
    {
     "data": {
      "text/html": [
       "<table>\n",
       "<thead><tr><th></th><th scope=col>Df</th><th scope=col>Sum Sq</th><th scope=col>Mean Sq</th><th scope=col>F value</th><th scope=col>Pr(&gt;F)</th></tr></thead>\n",
       "<tbody>\n",
       "\t<tr><th scope=row>Group</th><td> 5          </td><td>0.000315    </td><td>6.300000e-05</td><td>0.986087    </td><td>0.4348486   </td></tr>\n",
       "\t<tr><th scope=row>Residuals</th><td>54          </td><td>0.003450    </td><td>6.388889e-05</td><td>      NA    </td><td>       NA   </td></tr>\n",
       "</tbody>\n",
       "</table>\n"
      ],
      "text/latex": [
       "\\begin{tabular}{r|lllll}\n",
       "  & Df & Sum Sq & Mean Sq & F value & Pr(>F)\\\\\n",
       "\\hline\n",
       "\tGroup &  5           & 0.000315     & 6.300000e-05 & 0.986087     & 0.4348486   \\\\\n",
       "\tResiduals & 54           & 0.003450     & 6.388889e-05 &       NA     &        NA   \\\\\n",
       "\\end{tabular}\n"
      ],
      "text/markdown": [
       "\n",
       "| <!--/--> | Df | Sum Sq | Mean Sq | F value | Pr(>F) |\n",
       "|---|---|---|---|---|---|\n",
       "| Group |  5           | 0.000315     | 6.300000e-05 | 0.986087     | 0.4348486    |\n",
       "| Residuals | 54           | 0.003450     | 6.388889e-05 |       NA     |        NA    |\n",
       "\n"
      ],
      "text/plain": [
       "          Df Sum Sq   Mean Sq      F value  Pr(>F)   \n",
       "Group      5 0.000315 6.300000e-05 0.986087 0.4348486\n",
       "Residuals 54 0.003450 6.388889e-05       NA        NA"
      ]
     },
     "metadata": {},
     "output_type": "display_data"
    },
    {
     "data": {
      "text/plain": [
       "  Tukey multiple comparisons of means\n",
       "    95% family-wise confidence level\n",
       "\n",
       "Fit: aov(formula = model1)\n",
       "\n",
       "$Group\n",
       "               diff          lwr        upr     p adj\n",
       "AY-AG  3.000000e-03 -0.007561088 0.01356109 0.9587194\n",
       "BA-AG  6.000000e-03 -0.004561088 0.01656109 0.5515946\n",
       "IF-AG  6.000000e-03 -0.004561088 0.01656109 0.5515946\n",
       "IK-AG  6.000000e-03 -0.004561088 0.01656109 0.5515946\n",
       "LA-AG  6.000000e-03 -0.004561088 0.01656109 0.5515946\n",
       "BA-AY  3.000000e-03 -0.007561088 0.01356109 0.9587194\n",
       "IF-AY  3.000000e-03 -0.007561088 0.01356109 0.9587194\n",
       "IK-AY  3.000000e-03 -0.007561088 0.01356109 0.9587194\n",
       "LA-AY  3.000000e-03 -0.007561088 0.01356109 0.9587194\n",
       "IF-BA  0.000000e+00 -0.010561088 0.01056109 1.0000000\n",
       "IK-BA  0.000000e+00 -0.010561088 0.01056109 1.0000000\n",
       "LA-BA -2.220446e-16 -0.010561088 0.01056109 1.0000000\n",
       "IK-IF  0.000000e+00 -0.010561088 0.01056109 1.0000000\n",
       "LA-IF -2.220446e-16 -0.010561088 0.01056109 1.0000000\n",
       "LA-IK -2.220446e-16 -0.010561088 0.01056109 1.0000000\n"
      ]
     },
     "metadata": {},
     "output_type": "display_data"
    }
   ],
   "source": [
    "#Post-hoc test TukeyHSD - Test which of the groups have different means\n",
    "TukeyHSD(aov(model1))#none of the p-values is less than alpha(0.05) #A confirmation that there is truly no significance diffrence"
   ]
  },
  {
   "cell_type": "code",
   "execution_count": 112,
   "id": "3f747660",
   "metadata": {
    "scrolled": true
   },
   "outputs": [
    {
     "data": {
      "image/png": "[encoded data removed]",
      "text/plain": [
       "Plot with title \"Normal Q-Q Plot\""
      ]
     },
     "metadata": {},
     "output_type": "display_data"
    }
   ],
   "source": [
    "qqnorm(Group1$`ACID VALUE`)\n",
    "qqline(Group1$`ACID VALUE`)"
   ]
  },
  {
   "cell_type": "code",
   "execution_count": 111,
   "id": "5c9abcee",
   "metadata": {},
   "outputs": [
    {
     "data": {
      "image/png": "[encoded data removed]",
      "text/plain": [
       "Plot with title \"Normal Q-Q Plot\""
      ]
     },
     "metadata": {},
     "output_type": "display_data"
    }
   ],
   "source": [
    "qqnorm(Group2$`ACID VALUE`)\n",
    "qqline(Group2$`ACID VALUE`)"
   ]
  },
  {
   "cell_type": "code",
   "execution_count": 109,
   "id": "572d3b26",
   "metadata": {
    "scrolled": false
   },
   "outputs": [
    {
     "data": {
      "image/png": "[encoded data removed]",
      "text/plain": [
       "Plot with title \"Normal Q-Q Plot\""
      ]
     },
     "metadata": {},
     "output_type": "display_data"
    }
   ],
   "source": [
    "qqnorm(Group3$`ACID VALUE`)\n",
    "qqline(Group3$`ACID VALUE`)"
   ]
  },
  {
   "cell_type": "code",
   "execution_count": 108,
   "id": "97a8232b",
   "metadata": {},
   "outputs": [
    {
     "data": {
      "image/png": "[encoded data removed]",
      "text/plain": [
       "Plot with title \"Normal Q-Q Plot\""
      ]
     },
     "metadata": {},
     "output_type": "display_data"
    }
   ],
   "source": [
    "qqnorm(Group4$`ACID VALUE`)\n",
    "qqline(Group4$`ACID VALUE`)"
   ]
  },
  {
   "cell_type": "code",
   "execution_count": 107,
   "id": "2309794b",
   "metadata": {},
   "outputs": [
    {
     "data": {
      "image/png": "[encoded data removed]",
      "text/plain": [
       "Plot with title \"Normal Q-Q Plot\""
      ]
     },
     "metadata": {},
     "output_type": "display_data"
    }
   ],
   "source": [
    "qqnorm(Group5$`ACID VALUE`)\n",
    "qqline(Group5$`ACID VALUE`)"
   ]
  },
  {
   "cell_type": "code",
   "execution_count": 115,
   "id": "21d87e4d",
   "metadata": {
    "scrolled": true
   },
   "outputs": [
    {
     "data": {
      "text/plain": [
       "\n",
       "\tBartlett test of homogeneity of variances\n",
       "\n",
       "data:  ACID VALUE by Group\n",
       "Bartlett's K-squared = 16.404, df = 5, p-value = 0.005781\n"
      ]
     },
     "metadata": {},
     "output_type": "display_data"
    }
   ],
   "source": [
    "#Assumption 4: Homogeneneity of variances\n",
    "bartlett.test(`ACID VALUE` ~ Group, data = dataoneway) # p.value is >0.05 which infers that the variance of `specific gravity` across\n",
    "#groups are  equal"
   ]
  },
  {
   "cell_type": "code",
   "execution_count": 118,
   "id": "dae3f62a",
   "metadata": {},
   "outputs": [
    {
     "data": {
      "text/html": [
       "<table>\n",
       "<thead><tr><th></th><th scope=col>Df</th><th scope=col>Sum Sq</th><th scope=col>Mean Sq</th><th scope=col>F value</th><th scope=col>Pr(&gt;F)</th></tr></thead>\n",
       "<tbody>\n",
       "\t<tr><th scope=row>Group</th><td> 5       </td><td> 3251.122</td><td>650.2245 </td><td>1.737596 </td><td>0.1417334</td></tr>\n",
       "\t<tr><th scope=row>Residuals</th><td>54       </td><td>20207.293</td><td>374.2091 </td><td>      NA </td><td>       NA</td></tr>\n",
       "</tbody>\n",
       "</table>\n"
      ],
      "text/latex": [
       "\\begin{tabular}{r|lllll}\n",
       "  & Df & Sum Sq & Mean Sq & F value & Pr(>F)\\\\\n",
       "\\hline\n",
       "\tGroup &  5        &  3251.122 & 650.2245  & 1.737596  & 0.1417334\\\\\n",
       "\tResiduals & 54        & 20207.293 & 374.2091  &       NA  &        NA\\\\\n",
       "\\end{tabular}\n"
      ],
      "text/markdown": [
       "\n",
       "| <!--/--> | Df | Sum Sq | Mean Sq | F value | Pr(>F) |\n",
       "|---|---|---|---|---|---|\n",
       "| Group |  5        |  3251.122 | 650.2245  | 1.737596  | 0.1417334 |\n",
       "| Residuals | 54        | 20207.293 | 374.2091  |       NA  |        NA |\n",
       "\n"
      ],
      "text/plain": [
       "          Df Sum Sq    Mean Sq  F value  Pr(>F)   \n",
       "Group      5  3251.122 650.2245 1.737596 0.1417334\n",
       "Residuals 54 20207.293 374.2091       NA        NA"
      ]
     },
     "metadata": {},
     "output_type": "display_data"
    }
   ],
   "source": [
    "#ONE WAY ANOVA TEST\n",
    "model1 = lm(`ACID VALUE` ~ Group, data = dataoneway)\n",
    "anova(model1)\n",
    "\n",
    " #p value is > 0.05, there is NO difference in viscosity between markets, ACCEPT NULL HYPOTHESIS"
   ]
  },
  {
   "cell_type": "code",
   "execution_count": 114,
   "id": "f5791363",
   "metadata": {},
   "outputs": [
    {
     "data": {
      "text/html": [
       "<table>\n",
       "<thead><tr><th></th><th scope=col>Df</th><th scope=col>Sum Sq</th><th scope=col>Mean Sq</th><th scope=col>F value</th><th scope=col>Pr(&gt;F)</th></tr></thead>\n",
       "<tbody>\n",
       "\t<tr><th scope=row>Group</th><td> 5       </td><td> 3251.122</td><td>650.2245 </td><td>1.737596 </td><td>0.1417334</td></tr>\n",
       "\t<tr><th scope=row>Residuals</th><td>54       </td><td>20207.293</td><td>374.2091 </td><td>      NA </td><td>       NA</td></tr>\n",
       "</tbody>\n",
       "</table>\n"
      ],
      "text/latex": [
       "\\begin{tabular}{r|lllll}\n",
       "  & Df & Sum Sq & Mean Sq & F value & Pr(>F)\\\\\n",
       "\\hline\n",
       "\tGroup &  5        &  3251.122 & 650.2245  & 1.737596  & 0.1417334\\\\\n",
       "\tResiduals & 54        & 20207.293 & 374.2091  &       NA  &        NA\\\\\n",
       "\\end{tabular}\n"
      ],
      "text/markdown": [
       "\n",
       "| <!--/--> | Df | Sum Sq | Mean Sq | F value | Pr(>F) |\n",
       "|---|---|---|---|---|---|\n",
       "| Group |  5        |  3251.122 | 650.2245  | 1.737596  | 0.1417334 |\n",
       "| Residuals | 54        | 20207.293 | 374.2091  |       NA  |        NA |\n",
       "\n"
      ],
      "text/plain": [
       "          Df Sum Sq    Mean Sq  F value  Pr(>F)   \n",
       "Group      5  3251.122 650.2245 1.737596 0.1417334\n",
       "Residuals 54 20207.293 374.2091       NA        NA"
      ]
     },
     "metadata": {},
     "output_type": "display_data"
    },
    {
     "data": {
      "text/plain": [
       "  Tukey multiple comparisons of means\n",
       "    95% family-wise confidence level\n",
       "\n",
       "Fit: aov(formula = model1)\n",
       "\n",
       "$Group\n",
       "          diff       lwr      upr     p adj\n",
       "AY-AG  -9.6445 -35.20405 15.91505 0.8731342\n",
       "BA-AG -14.0992 -39.65875 11.46035 0.5829826\n",
       "IF-AG  -5.1195 -30.67905 20.44005 0.9911757\n",
       "IK-AG   9.0175 -16.54205 34.57705 0.9013446\n",
       "LA-AG  -1.6314 -27.19095 23.92815 0.9999650\n",
       "BA-AY  -4.4547 -30.01425 21.10485 0.9953721\n",
       "IF-AY   4.5250 -21.03455 30.08455 0.9950201\n",
       "IK-AY  18.6620  -6.89755 44.22155 0.2746648\n",
       "LA-AY   8.0131 -17.54645 33.57265 0.9379938\n",
       "IF-BA   8.9797 -16.57985 34.53925 0.9029148\n",
       "IK-BA  23.1167  -2.44285 48.67625 0.0978407\n",
       "LA-BA  12.4678 -13.09175 38.02735 0.7020750\n",
       "IK-IF  14.1370 -11.42255 39.69655 0.5801689\n",
       "LA-IF   3.4881 -22.07145 29.04765 0.9985522\n",
       "LA-IK -10.6489 -36.20845 14.91065 0.8197830\n"
      ]
     },
     "metadata": {},
     "output_type": "display_data"
    }
   ],
   "source": [
    "#Post-hoc test TukeyHSD - Test which of the groups have different means\n",
    "model1 = lm(`ACID VALUE` ~ Group, data = dataoneway)\n",
    "anova(model1)\n",
    "\n",
    "#Post-hoc test TukeyHSD - Test which of the groups have different means\n",
    "TukeyHSD(aov(model1)) #P-vale of any 2 groups that is < 0.05 are significantly different\n",
    "\n",
    "#NOTE THE THERE IS A DIFFERENCE IN THE ACID VALUE OF IK-AY MARKETS"
   ]
  },
  {
   "cell_type": "code",
   "execution_count": 124,
   "id": "e62511c2",
   "metadata": {},
   "outputs": [
    {
     "data": {
      "image/png": "[encoded data removed]",
      "text/plain": [
       "Plot with title \"Normal Q-Q Plot\""
      ]
     },
     "metadata": {},
     "output_type": "display_data"
    }
   ],
   "source": [
    "qqnorm(Group1$`PEROXIDE VALUE`)\n",
    "qqline(Group1$`PEROXIDE VALUE`)"
   ]
  },
  {
   "cell_type": "code",
   "execution_count": 123,
   "id": "50789c88",
   "metadata": {},
   "outputs": [
    {
     "data": {
      "image/png": "[encoded data removed]",
      "text/plain": [
       "Plot with title \"Normal Q-Q Plot\""
      ]
     },
     "metadata": {},
     "output_type": "display_data"
    }
   ],
   "source": [
    "qqnorm(Group2$`PEROXIDE VALUE`)\n",
    "qqline(Group2$`PEROXIDE VALUE`)"
   ]
  },
  {
   "cell_type": "code",
   "execution_count": 122,
   "id": "6b0bbc6a",
   "metadata": {
    "scrolled": true
   },
   "outputs": [
    {
     "data": {
      "image/png": "[encoded data removed]",
      "text/plain": [
       "Plot with title \"Normal Q-Q Plot\""
      ]
     },
     "metadata": {},
     "output_type": "display_data"
    }
   ],
   "source": [
    "qqnorm(Group3$`PEROXIDE VALUE`)\n",
    "qqline(Group3$`PEROXIDE VALUE`)"
   ]
  },
  {
   "cell_type": "code",
   "execution_count": 121,
   "id": "951ecf13",
   "metadata": {},
   "outputs": [
    {
     "data": {
      "image/png": "[encoded data removed]",
      "text/plain": [
       "Plot with title \"Normal Q-Q Plot\""
      ]
     },
     "metadata": {},
     "output_type": "display_data"
    }
   ],
   "source": [
    "qqnorm(Group4$`PEROXIDE VALUE`)\n",
    "qqline(Group4$`PEROXIDE VALUE`)"
   ]
  },
  {
   "cell_type": "code",
   "execution_count": 120,
   "id": "71d6c5eb",
   "metadata": {},
   "outputs": [
    {
     "data": {
      "image/png": "[encoded data removed]",
      "text/plain": [
       "Plot with title \"Normal Q-Q Plot\""
      ]
     },
     "metadata": {},
     "output_type": "display_data"
    }
   ],
   "source": [
    "qqnorm(Group5$`PEROXIDE VALUE`)\n",
    "qqline(Group5$`PEROXIDE VALUE`)"
   ]
  },
  {
   "cell_type": "code",
   "execution_count": 125,
   "id": "52c3016d",
   "metadata": {
    "scrolled": true
   },
   "outputs": [
    {
     "data": {
      "text/plain": [
       "\n",
       "\tBartlett test of homogeneity of variances\n",
       "\n",
       "data:  PEROXIDE VALUE by Group\n",
       "Bartlett's K-squared = 89.545, df = 5, p-value < 2.2e-16\n"
      ]
     },
     "metadata": {},
     "output_type": "display_data"
    }
   ],
   "source": [
    "#Assumption 4: Homogeneneity of variances\n",
    "bartlett.test(`PEROXIDE VALUE` ~ Group, data = dataoneway) # p.value is <0.05 which infers that the variance of `specific gravity` across\n",
    "#groups are not equal"
   ]
  },
  {
   "cell_type": "code",
   "execution_count": 126,
   "id": "d1cfc04c",
   "metadata": {},
   "outputs": [
    {
     "data": {
      "text/plain": [
       "\n",
       "\tOne-way analysis of means (not assuming equal variances)\n",
       "\n",
       "data:  `PEROXIDE VALUE` and Group\n",
       "F = 2.8019, num df = 5.000, denom df = 23.539, p-value = 0.03993\n"
      ]
     },
     "metadata": {},
     "output_type": "display_data"
    }
   ],
   "source": [
    "### Welch’s anova for unequal variances\n",
    "\n",
    "oneway.test(`PEROXIDE VALUE` ~ Group, data = dataoneway,\n",
    "            var.equal=FALSE)\n",
    "\n",
    " #p value is < 0.05, there is a difference in AT LEAST ON EOF THE ACID VALUE between markets"
   ]
  },
  {
   "cell_type": "code",
   "execution_count": 129,
   "id": "c0291d46",
   "metadata": {
    "scrolled": true
   },
   "outputs": [
    {
     "data": {
      "text/html": [
       "<table>\n",
       "<thead><tr><th></th><th scope=col>Df</th><th scope=col>Sum Sq</th><th scope=col>Mean Sq</th><th scope=col>F value</th><th scope=col>Pr(&gt;F)</th></tr></thead>\n",
       "<tbody>\n",
       "\t<tr><th scope=row>Group</th><td> 5          </td><td>3344.108    </td><td>668.82169   </td><td>12.45815    </td><td>4.688988e-08</td></tr>\n",
       "\t<tr><th scope=row>Residuals</th><td>54          </td><td>2899.017    </td><td> 53.68549   </td><td>      NA    </td><td>          NA</td></tr>\n",
       "</tbody>\n",
       "</table>\n"
      ],
      "text/latex": [
       "\\begin{tabular}{r|lllll}\n",
       "  & Df & Sum Sq & Mean Sq & F value & Pr(>F)\\\\\n",
       "\\hline\n",
       "\tGroup &  5           & 3344.108     & 668.82169    & 12.45815     & 4.688988e-08\\\\\n",
       "\tResiduals & 54           & 2899.017     &  53.68549    &       NA     &           NA\\\\\n",
       "\\end{tabular}\n"
      ],
      "text/markdown": [
       "\n",
       "| <!--/--> | Df | Sum Sq | Mean Sq | F value | Pr(>F) |\n",
       "|---|---|---|---|---|---|\n",
       "| Group |  5           | 3344.108     | 668.82169    | 12.45815     | 4.688988e-08 |\n",
       "| Residuals | 54           | 2899.017     |  53.68549    |       NA     |           NA |\n",
       "\n"
      ],
      "text/plain": [
       "          Df Sum Sq   Mean Sq   F value  Pr(>F)      \n",
       "Group      5 3344.108 668.82169 12.45815 4.688988e-08\n",
       "Residuals 54 2899.017  53.68549       NA           NA"
      ]
     },
     "metadata": {},
     "output_type": "display_data"
    },
    {
     "data": {
      "text/plain": [
       "  Tukey multiple comparisons of means\n",
       "    95% family-wise confidence level\n",
       "\n",
       "Fit: aov(formula = model1)\n",
       "\n",
       "$Group\n",
       "           diff        lwr        upr     p adj\n",
       "AY-AG  19.31700   9.635905  28.998095 0.0000037\n",
       "BA-AG  -0.83974 -10.520835   8.841355 0.9998408\n",
       "IF-AG  -0.89700 -10.578095   8.784095 0.9997799\n",
       "IK-AG  -1.33100 -11.012095   8.350095 0.9984997\n",
       "LA-AG  -0.34860 -10.029695   9.332495 0.9999980\n",
       "BA-AY -20.15674 -29.837835 -10.475645 0.0000014\n",
       "IF-AY -20.21400 -29.895095 -10.532905 0.0000013\n",
       "IK-AY -20.64800 -30.329095 -10.966905 0.0000008\n",
       "LA-AY -19.66560 -29.346695  -9.984505 0.0000025\n",
       "IF-BA  -0.05726  -9.738355   9.623835 1.0000000\n",
       "IK-BA  -0.49126 -10.172355   9.189835 0.9999888\n",
       "LA-BA   0.49114  -9.189955  10.172235 0.9999888\n",
       "IK-IF  -0.43400 -10.115095   9.247095 0.9999940\n",
       "LA-IF   0.54840  -9.132695  10.229495 0.9999807\n",
       "LA-IK   0.98240  -8.698695  10.663495 0.9996562\n"
      ]
     },
     "metadata": {},
     "output_type": "display_data"
    }
   ],
   "source": [
    "#Post-hoc test TukeyHSD - Test which of the groups have different means\n",
    "model1 = lm(`PEROXIDE VALUE` ~ Group, data = dataoneway)\n",
    "anova(model1)\n",
    "\n",
    "#Post-hoc test TukeyHSD - Test which of the groups have different means\n",
    "TukeyHSD(aov(model1)) #P-vale of any 2 groups that is < 0.05 are significantly different"
   ]
  },
  {
   "cell_type": "code",
   "execution_count": 132,
   "id": "e2a58c77",
   "metadata": {},
   "outputs": [
    {
     "data": {
      "text/plain": [
       "\n",
       "\tBartlett test of homogeneity of variances\n",
       "\n",
       "data:  IODINE VALUE by Group\n",
       "Bartlett's K-squared = 47.62, df = 5, p-value = 4.246e-09\n"
      ]
     },
     "metadata": {},
     "output_type": "display_data"
    }
   ],
   "source": [
    "#Assumption 4: Homogeneneity of variances\n",
    "bartlett.test(`IODINE VALUE` ~ Group, data = dataoneway) # p.value is <0.05 which infers that the variance of `specific gravity` across\n",
    "#groups are not equal"
   ]
  },
  {
   "cell_type": "code",
   "execution_count": 146,
   "id": "bf4e7f3e",
   "metadata": {},
   "outputs": [
    {
     "data": {
      "image/png": "[encoded data removed]",
      "text/plain": [
       "Plot with title \"Normal Q-Q Plot\""
      ]
     },
     "metadata": {},
     "output_type": "display_data"
    }
   ],
   "source": [
    "qqnorm(Group1$`IODINE VALUE`)\n",
    "qqline(Group1$`IODINE VALUE`)"
   ]
  },
  {
   "cell_type": "code",
   "execution_count": 145,
   "id": "7b828d52",
   "metadata": {
    "scrolled": true
   },
   "outputs": [
    {
     "data": {
      "image/png": "[encoded data removed]",
      "text/plain": [
       "Plot with title \"Normal Q-Q Plot\""
      ]
     },
     "metadata": {},
     "output_type": "display_data"
    }
   ],
   "source": [
    "qqnorm(Group2$`IODINE VALUE`)\n",
    "qqline(Group2$`IODINE VALUE`)"
   ]
  },
  {
   "cell_type": "code",
   "execution_count": 144,
   "id": "f41223ba",
   "metadata": {
    "scrolled": true
   },
   "outputs": [
    {
     "data": {
      "image/png": "[encoded data removed]",
      "text/plain": [
       "Plot with title \"Normal Q-Q Plot\""
      ]
     },
     "metadata": {},
     "output_type": "display_data"
    }
   ],
   "source": [
    "qqnorm(Group3$`IODINE VALUE`)\n",
    "qqline(Group3$`IODINE VALUE`)"
   ]
  },
  {
   "cell_type": "code",
   "execution_count": 143,
   "id": "a94a5f61",
   "metadata": {
    "scrolled": true
   },
   "outputs": [
    {
     "data": {
      "image/png": "[encoded data removed]",
      "text/plain": [
       "Plot with title \"Normal Q-Q Plot\""
      ]
     },
     "metadata": {},
     "output_type": "display_data"
    }
   ],
   "source": [
    "qqnorm(Group4$`IODINE VALUE`)\n",
    "qqline(Group4$`IODINE VALUE`)"
   ]
  },
  {
   "cell_type": "code",
   "execution_count": 141,
   "id": "fa261d14",
   "metadata": {
    "scrolled": true
   },
   "outputs": [
    {
     "data": {
      "image/png": "[encoded data removed]",
      "text/plain": [
       "Plot with title \"Normal Q-Q Plot\""
      ]
     },
     "metadata": {},
     "output_type": "display_data"
    }
   ],
   "source": [
    "qqnorm(Group5$`IODINE VALUE`)\n",
    "qqline(Group5$`IODINE VALUE`)"
   ]
  },
  {
   "cell_type": "code",
   "execution_count": 135,
   "id": "a231d280",
   "metadata": {},
   "outputs": [
    {
     "data": {
      "text/plain": [
       "\n",
       "\tOne-way analysis of means (not assuming equal variances)\n",
       "\n",
       "data:  `IODINE VALUE` and Group\n",
       "F = 23.293, num df = 5.000, denom df = 21.198, p-value = 5.971e-08\n"
      ]
     },
     "metadata": {},
     "output_type": "display_data"
    }
   ],
   "source": [
    "### Welch’s anova for unequal variances\n",
    "\n",
    "oneway.test(`IODINE VALUE` ~ Group, data = dataoneway,\n",
    "            var.equal=FALSE)\n",
    "\n",
    " #p value is < 0.05, there is a difference in AT LEAST ON OF THE ACID VALUE between markets"
   ]
  },
  {
   "cell_type": "code",
   "execution_count": 137,
   "id": "ea634553",
   "metadata": {},
   "outputs": [
    {
     "data": {
      "text/html": [
       "<table>\n",
       "<thead><tr><th></th><th scope=col>Df</th><th scope=col>Sum Sq</th><th scope=col>Mean Sq</th><th scope=col>F value</th><th scope=col>Pr(&gt;F)</th></tr></thead>\n",
       "<tbody>\n",
       "\t<tr><th scope=row>Group</th><td> 5          </td><td>24018.07    </td><td>4803.6136   </td><td>5.842804    </td><td>0.0002200309</td></tr>\n",
       "\t<tr><th scope=row>Residuals</th><td>54          </td><td>44395.66    </td><td> 822.1418   </td><td>      NA    </td><td>          NA</td></tr>\n",
       "</tbody>\n",
       "</table>\n"
      ],
      "text/latex": [
       "\\begin{tabular}{r|lllll}\n",
       "  & Df & Sum Sq & Mean Sq & F value & Pr(>F)\\\\\n",
       "\\hline\n",
       "\tGroup &  5           & 24018.07     & 4803.6136    & 5.842804     & 0.0002200309\\\\\n",
       "\tResiduals & 54           & 44395.66     &  822.1418    &       NA     &           NA\\\\\n",
       "\\end{tabular}\n"
      ],
      "text/markdown": [
       "\n",
       "| <!--/--> | Df | Sum Sq | Mean Sq | F value | Pr(>F) |\n",
       "|---|---|---|---|---|---|\n",
       "| Group |  5           | 24018.07     | 4803.6136    | 5.842804     | 0.0002200309 |\n",
       "| Residuals | 54           | 44395.66     |  822.1418    |       NA     |           NA |\n",
       "\n"
      ],
      "text/plain": [
       "          Df Sum Sq   Mean Sq   F value  Pr(>F)      \n",
       "Group      5 24018.07 4803.6136 5.842804 0.0002200309\n",
       "Residuals 54 44395.66  822.1418       NA           NA"
      ]
     },
     "metadata": {},
     "output_type": "display_data"
    },
    {
     "data": {
      "text/plain": [
       "  Tukey multiple comparisons of means\n",
       "    95% family-wise confidence level\n",
       "\n",
       "Fit: aov(formula = model1)\n",
       "\n",
       "$Group\n",
       "           diff        lwr        upr     p adj\n",
       "AY-AG  58.00300  20.117818 95.8881818 0.0004643\n",
       "BA-AG  38.97626   1.091078 76.8614418 0.0403233\n",
       "IF-AG  20.88200 -17.003182 58.7671818 0.5838004\n",
       "IK-AG  32.72600  -5.159182 70.6111818 0.1273905\n",
       "LA-AG  55.72758  17.842398 93.6127618 0.0008371\n",
       "BA-AY -19.02674 -56.911922 18.8584418 0.6758313\n",
       "IF-AY -37.12100 -75.006182  0.7641818 0.0579316\n",
       "IK-AY -25.27700 -63.162182 12.6081818 0.3719494\n",
       "LA-AY  -2.27542 -40.160602 35.6097618 0.9999741\n",
       "IF-BA -18.09426 -55.979442 19.7909218 0.7202277\n",
       "IK-BA  -6.25026 -44.135442 31.6349218 0.9964249\n",
       "LA-BA  16.75132 -21.133862 54.6365018 0.7802711\n",
       "IK-IF  11.84400 -26.041182 49.7291818 0.9386935\n",
       "LA-IF  34.84558  -3.039602 72.7307618 0.0882518\n",
       "LA-IK  23.00158 -14.883602 60.8867618 0.4782608\n"
      ]
     },
     "metadata": {},
     "output_type": "display_data"
    }
   ],
   "source": [
    "#Post-hoc test TukeyHSD - Test which of the groups have different means\n",
    "model1 = lm(`IODINE VALUE` ~ Group, data = dataoneway)\n",
    "anova(model1)\n",
    "\n",
    "#Post-hoc test TukeyHSD - Test which of the groups have different means\n",
    "TukeyHSD(aov(model1)) #P-vale of any 2 groups that is < 0.05 are significantly different"
   ]
  },
  {
   "cell_type": "code",
   "execution_count": 152,
   "id": "d8df0358",
   "metadata": {},
   "outputs": [
    {
     "data": {
      "image/png": "[encoded data removed]",
      "text/plain": [
       "Plot with title \"Normal Q-Q Plot\""
      ]
     },
     "metadata": {},
     "output_type": "display_data"
    }
   ],
   "source": [
    "qqnorm(Group1$`SAPONIFICATION VALUE`)\n",
    "qqline(Group1$`SAPONIFICATION VALUE`)"
   ]
  },
  {
   "cell_type": "code",
   "execution_count": 151,
   "id": "065ec368",
   "metadata": {
    "scrolled": true
   },
   "outputs": [
    {
     "data": {
      "image/png": "[encoded data removed]",
      "text/plain": [
       "Plot with title \"Normal Q-Q Plot\""
      ]
     },
     "metadata": {},
     "output_type": "display_data"
    }
   ],
   "source": [
    "qqnorm(Group2$`SAPONIFICATION VALUE`)\n",
    "qqline(Group2$`SAPONIFICATION VALUE`)"
   ]
  },
  {
   "cell_type": "code",
   "execution_count": 150,
   "id": "f909de86",
   "metadata": {
    "scrolled": false
   },
   "outputs": [
    {
     "data": {
      "image/png": "[encoded data removed]",
      "text/plain": [
       "Plot with title \"Normal Q-Q Plot\""
      ]
     },
     "metadata": {},
     "output_type": "display_data"
    }
   ],
   "source": [
    "qqnorm(Group3$`SAPONIFICATION VALUE`)\n",
    "qqline(Group3$`SAPONIFICATION VALUE`)"
   ]
  },
  {
   "cell_type": "code",
   "execution_count": 149,
   "id": "e477ae09",
   "metadata": {
    "scrolled": true
   },
   "outputs": [
    {
     "data": {
      "image/png": "[encoded data removed]",
      "text/plain": [
       "Plot with title \"Normal Q-Q Plot\""
      ]
     },
     "metadata": {},
     "output_type": "display_data"
    }
   ],
   "source": [
    "qqnorm(Group4$`SAPONIFICATION VALUE`)\n",
    "qqline(Group4$`SAPONIFICATION VALUE`)"
   ]
  },
  {
   "cell_type": "code",
   "execution_count": 148,
   "id": "e8b3207e",
   "metadata": {},
   "outputs": [
    {
     "data": {
      "image/png": "[encoded data removed]",
      "text/plain": [
       "Plot with title \"Normal Q-Q Plot\""
      ]
     },
     "metadata": {},
     "output_type": "display_data"
    }
   ],
   "source": [
    "qqnorm(Group5$`SAPONIFICATION VALUE`)\n",
    "qqline(Group5$`SAPONIFICATION VALUE`)"
   ]
  },
  {
   "cell_type": "code",
   "execution_count": 140,
   "id": "01dc7d15",
   "metadata": {},
   "outputs": [
    {
     "data": {
      "text/plain": [
       "\n",
       "\tBartlett test of homogeneity of variances\n",
       "\n",
       "data:  SAPONIFICATION VALUE by Group\n",
       "Bartlett's K-squared = 43.18, df = 5, p-value = 3.397e-08\n"
      ]
     },
     "metadata": {},
     "output_type": "display_data"
    }
   ],
   "source": [
    "#Assumption 4: Homogeneneity of variances\n",
    "bartlett.test(`SAPONIFICATION VALUE` ~ Group, data = dataoneway) # p.value is <0.05 which infers that the variance of `specific gravity` across\n",
    "#groups are not equal"
   ]
  },
  {
   "cell_type": "code",
   "execution_count": 139,
   "id": "380c780f",
   "metadata": {},
   "outputs": [
    {
     "data": {
      "text/plain": [
       "\n",
       "\tOne-way analysis of means (not assuming equal variances)\n",
       "\n",
       "data:  `SAPONIFICATION VALUE` and Group\n",
       "F = 7.0174, num df = 5.000, denom df = 23.649, p-value = 0.0003777\n"
      ]
     },
     "metadata": {},
     "output_type": "display_data"
    }
   ],
   "source": [
    "### Welch’s anova for unequal variances\n",
    "\n",
    "oneway.test(`SAPONIFICATION VALUE` ~ Group, data = dataoneway,\n",
    "            var.equal=FALSE)\n",
    "\n",
    " #p value is < 0.05, there is a difference in AT LEAST ON OF THE ACID VALUE between markets"
   ]
  },
  {
   "cell_type": "code",
   "execution_count": 138,
   "id": "1ade0731",
   "metadata": {},
   "outputs": [
    {
     "data": {
      "text/html": [
       "<table>\n",
       "<thead><tr><th></th><th scope=col>Df</th><th scope=col>Sum Sq</th><th scope=col>Mean Sq</th><th scope=col>F value</th><th scope=col>Pr(&gt;F)</th></tr></thead>\n",
       "<tbody>\n",
       "\t<tr><th scope=row>Group</th><td> 5         </td><td> 38138.14  </td><td>7627.627   </td><td>3.965466   </td><td>0.003897802</td></tr>\n",
       "\t<tr><th scope=row>Residuals</th><td>54         </td><td>103869.72  </td><td>1923.513   </td><td>      NA   </td><td>         NA</td></tr>\n",
       "</tbody>\n",
       "</table>\n"
      ],
      "text/latex": [
       "\\begin{tabular}{r|lllll}\n",
       "  & Df & Sum Sq & Mean Sq & F value & Pr(>F)\\\\\n",
       "\\hline\n",
       "\tGroup &  5          &  38138.14   & 7627.627    & 3.965466    & 0.003897802\\\\\n",
       "\tResiduals & 54          & 103869.72   & 1923.513    &       NA    &          NA\\\\\n",
       "\\end{tabular}\n"
      ],
      "text/markdown": [
       "\n",
       "| <!--/--> | Df | Sum Sq | Mean Sq | F value | Pr(>F) |\n",
       "|---|---|---|---|---|---|\n",
       "| Group |  5          |  38138.14   | 7627.627    | 3.965466    | 0.003897802 |\n",
       "| Residuals | 54          | 103869.72   | 1923.513    |       NA    |          NA |\n",
       "\n"
      ],
      "text/plain": [
       "          Df Sum Sq    Mean Sq  F value  Pr(>F)     \n",
       "Group      5  38138.14 7627.627 3.965466 0.003897802\n",
       "Residuals 54 103869.72 1923.513       NA          NA"
      ]
     },
     "metadata": {},
     "output_type": "display_data"
    },
    {
     "data": {
      "text/plain": [
       "  Tukey multiple comparisons of means\n",
       "    95% family-wise confidence level\n",
       "\n",
       "Fit: aov(formula = model1)\n",
       "\n",
       "$Group\n",
       "           diff        lwr        upr     p adj\n",
       "AY-AG  42.10850  -15.84019 100.057188 0.2796045\n",
       "BA-AG  28.15850  -29.79019  86.107188 0.7054379\n",
       "IF-AG  43.21850  -14.73019 101.167188 0.2531545\n",
       "IK-AG -24.98850  -82.93719  32.960188 0.7976339\n",
       "LA-AG  -1.95359  -59.90228  55.995098 0.9999985\n",
       "BA-AY -13.95000  -71.89869  43.998688 0.9797871\n",
       "IF-AY   1.11000  -56.83869  59.058688 0.9999999\n",
       "IK-AY -67.09700 -125.04569  -9.148312 0.0144146\n",
       "LA-AY -44.06209 -102.01078  13.886598 0.2341892\n",
       "IF-BA  15.06000  -42.88869  73.008688 0.9717526\n",
       "IK-BA -53.14700 -111.09569   4.801688 0.0898372\n",
       "LA-BA -30.11209  -88.06078  27.836598 0.6434974\n",
       "IK-IF -68.20700 -126.15569 -10.258312 0.0122718\n",
       "LA-IF -45.17209 -103.12078  12.776598 0.2107428\n",
       "LA-IK  23.03491  -34.91378  80.983598 0.8469542\n"
      ]
     },
     "metadata": {},
     "output_type": "display_data"
    }
   ],
   "source": [
    "#Post-hoc test TukeyHSD - Test which of the groups have different means\n",
    "model1 = lm(`SAPONIFICATION VALUE` ~ Group, data = dataoneway)\n",
    "anova(model1)\n",
    "\n",
    "#Post-hoc test TukeyHSD - Test which of the groups have different means\n",
    "TukeyHSD(aov(model1)) #P-vale of any 2 groups that is < 0.05 are significantly different"
   ]
  }
 ],
 "metadata": {
  "kernelspec": {
   "display_name": "R",
   "language": "R",
   "name": "ir"
  },
  "language_info": {
   "codemirror_mode": "r",
   "file_extension": ".r",
   "mimetype": "text/x-r-source",
   "name": "R",
   "pygments_lexer": "r",
   "version": "3.6.1"
  }
 },
 "nbformat": 4,
 "nbformat_minor": 5
}
